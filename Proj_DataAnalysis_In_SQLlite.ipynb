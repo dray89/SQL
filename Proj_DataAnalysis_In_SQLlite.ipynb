{
 "cells": [
  {
   "cell_type": "code",
   "execution_count": 1,
   "metadata": {},
   "outputs": [],
   "source": [
    "import pandas as pd\n",
    "import datetime\n",
    "import numpy as np\n",
    "import scipy.stats as stats\n",
    "from sqlalchemy import create_engine\n",
    "#!pip install ipython-sql\n",
    "%reload_ext sql"
   ]
  },
  {
   "cell_type": "code",
   "execution_count": 2,
   "metadata": {},
   "outputs": [],
   "source": [
    "date_cols = [\"Filing Date\", \"Issuance Date\", \"Expiration Date\", \"Job Start Date\"]\n",
    "permits = pd.read_csv(r'C:\\Users\\rayde\\Downloads\\Historical_DOB_Permit_Issuance.csv', low_memory=False, parse_dates=date_cols)\n",
    "POPULATION = pd.read_csv(r\"C:\\Users\\rayde\\Downloads\\2010+Census+Population+By+Zipcode+(ZCTA).csv\", low_memory=False)"
   ]
  },
  {
   "cell_type": "code",
   "execution_count": 5,
   "metadata": {
    "scrolled": true
   },
   "outputs": [
    {
     "data": {
      "text/plain": [
       "Filing Date        datetime64[ns]\n",
       "Issuance Date      datetime64[ns]\n",
       "Expiration Date    datetime64[ns]\n",
       "Job Start Date             object\n",
       "dtype: object"
      ]
     },
     "execution_count": 5,
     "metadata": {},
     "output_type": "execute_result"
    }
   ],
   "source": [
    "# Check to see dates imported as datetime64\n",
    "\n",
    "permits[date_cols].dtypes"
   ]
  },
  {
   "cell_type": "code",
   "execution_count": 6,
   "metadata": {},
   "outputs": [],
   "source": [
    "#Job Start Date Column is an object. Need to convert to datetime64\n",
    "permits['Job Start Date'] = pd.to_datetime(permits['Job Start Date'],errors=\"coerce\")"
   ]
  },
  {
   "cell_type": "code",
   "execution_count": 7,
   "metadata": {},
   "outputs": [
    {
     "data": {
      "text/plain": [
       "Filing Date        datetime64[ns]\n",
       "Issuance Date      datetime64[ns]\n",
       "Expiration Date    datetime64[ns]\n",
       "Job Start Date     datetime64[ns]\n",
       "dtype: object"
      ]
     },
     "execution_count": 7,
     "metadata": {},
     "output_type": "execute_result"
    }
   ],
   "source": [
    "#Check Columns again\n",
    "columns = [\"Filing Date\", \"Issuance Date\", \"Expiration Date\", \"Job Start Date\"]\n",
    "# columns need to reformat \"Filing Date\" \"Issuance Date\" \"Expiration Date\" \"Job Start Date\"\n",
    "\n",
    "permits[date_cols].dtypes"
   ]
  },
  {
   "cell_type": "code",
   "execution_count": 25,
   "metadata": {
    "scrolled": true
   },
   "outputs": [
    {
     "data": {
      "text/plain": [
       "BOROUGH                                   0\n",
       "BIN                                       0\n",
       "Number                                    4\n",
       "Street                                    4\n",
       "Job #                                     0\n",
       "Job doc. #                                0\n",
       "Job Type                                  0\n",
       "Self_Cert                            688837\n",
       "Block                                   284\n",
       "Lot                                     293\n",
       "Community Board                         614\n",
       "Postcode                                269\n",
       "Bldg Type                             24097\n",
       "Residential                          705895\n",
       "Special District 1                   981418\n",
       "Special District 2                  1047758\n",
       "Work Type                            193057\n",
       "Permit Status                          3660\n",
       "Filing Status                             0\n",
       "Permit Type                               0\n",
       "Permit Sequence #                         0\n",
       "Permit Subtype                       426168\n",
       "Oil Gas                             1031621\n",
       "Site Fill                             74285\n",
       "Filing Date                               0\n",
       "Issuance Date                             0\n",
       "Expiration Date                           2\n",
       "Job Start Date                           13\n",
       "Permittee's First Name                   34\n",
       "Permittee's Last Name                    34\n",
       "Permittee's Business Name              7922\n",
       "Permittee's Phone #                     103\n",
       "Permittee's License Type             107579\n",
       "Permittee's License #                 92310\n",
       "Act as Superintendent                368986\n",
       "Permittee's Other Title              936369\n",
       "HIC License                         1035311\n",
       "Site Safety Mgr's First Name        1044290\n",
       "Site Safety Mgr's Last Name         1044289\n",
       "Site Safety Mgr Business Name       1045317\n",
       "Superintendent First & Last Name     360171\n",
       "Superintendent Business Name         360273\n",
       "Owner's Business Type                 65059\n",
       "Non-Profit                           965921\n",
       "Owner's Business Name                284184\n",
       "Owner's First Name                    63443\n",
       "Owner's Last Name                     63333\n",
       "Owner's House #                       63191\n",
       "Owner's House Street Name             63278\n",
       "Owner’s House City                    63087\n",
       "Owner’s House State                   63121\n",
       "Owner’s House Zip Code                65824\n",
       "Owner's Phone #                       87323\n",
       "DOBRunDate                                0\n",
       "Latitude                               4781\n",
       "Longitude                              4781\n",
       "Council District                       4781\n",
       "Census Tract                           4781\n",
       "BBL                                   13014\n",
       "NTA                                    4637\n",
       "dtype: int64"
      ]
     },
     "execution_count": 25,
     "metadata": {},
     "output_type": "execute_result"
    }
   ],
   "source": [
    "#Check for NaN values in the column\n",
    "permits.isnull().sum()\n",
    "#We are missing only 4 number and 4 streets but we are missing the block, lot and postcode, bldg type ... etc \n",
    "# of a great deal more than 4 observations. We can probably look this information up. (No need for imputation)"
   ]
  },
  {
   "cell_type": "code",
   "execution_count": 27,
   "metadata": {},
   "outputs": [
    {
     "data": {
      "text/plain": [
       "0.21403342631666786"
      ]
     },
     "execution_count": 27,
     "metadata": {},
     "output_type": "execute_result"
    }
   ],
   "source": [
    "#We are missing 21.4% of the data\n",
    "permits.isnull().sum().sum()/np.product(permits.shape)"
   ]
  },
  {
   "cell_type": "code",
   "execution_count": 28,
   "metadata": {},
   "outputs": [],
   "source": [
    "engine = create_engine('sqlite:///permitsdb.sql', echo=False)\n",
    "permits.to_sql('permits', con=engine, if_exists='replace')\n",
    "POPULATION.to_sql('POPULATION', con=engine, if_exists='replace')"
   ]
  },
  {
   "cell_type": "code",
   "execution_count": 29,
   "metadata": {},
   "outputs": [],
   "source": [
    "import os\n",
    "os.environ[\"DATABASE_URL\"]='sqlite:///permitsdb.sql'"
   ]
  },
  {
   "cell_type": "code",
   "execution_count": 92,
   "metadata": {},
   "outputs": [
    {
     "name": "stdout",
     "output_type": "stream",
     "text": [
      " * sqlite:///permitsdb.sql\n",
      "Done.\n"
     ]
    },
    {
     "data": {
      "text/html": [
       "<table>\n",
       "    <tr>\n",
       "        <th>index</th>\n",
       "        <th>BOROUGH</th>\n",
       "        <th>BIN</th>\n",
       "        <th>Number</th>\n",
       "        <th>Street</th>\n",
       "        <th>Job #</th>\n",
       "        <th>Job doc. #</th>\n",
       "        <th>Job Type</th>\n",
       "        <th>Self_Cert</th>\n",
       "        <th>Block</th>\n",
       "        <th>Lot</th>\n",
       "        <th>Community Board</th>\n",
       "        <th>Postcode</th>\n",
       "        <th>Bldg Type</th>\n",
       "        <th>Residential</th>\n",
       "        <th>Special District 1</th>\n",
       "        <th>Special District 2</th>\n",
       "        <th>Work Type</th>\n",
       "        <th>Permit Status</th>\n",
       "        <th>Filing Status</th>\n",
       "        <th>Permit Type</th>\n",
       "        <th>Permit Sequence #</th>\n",
       "        <th>Permit Subtype</th>\n",
       "        <th>Oil Gas</th>\n",
       "        <th>Site Fill</th>\n",
       "        <th>Filing Date</th>\n",
       "        <th>Issuance Date</th>\n",
       "        <th>Expiration Date</th>\n",
       "        <th>Job Start Date</th>\n",
       "        <th>Permittee&#x27;s First Name</th>\n",
       "        <th>Permittee&#x27;s Last Name</th>\n",
       "        <th>Permittee&#x27;s Business Name</th>\n",
       "        <th>Permittee&#x27;s Phone #</th>\n",
       "        <th>Permittee&#x27;s License Type</th>\n",
       "        <th>Permittee&#x27;s License #</th>\n",
       "        <th>Act as Superintendent</th>\n",
       "        <th>Permittee&#x27;s Other Title</th>\n",
       "        <th>HIC License</th>\n",
       "        <th>Site Safety Mgr&#x27;s First Name</th>\n",
       "        <th>Site Safety Mgr&#x27;s Last Name</th>\n",
       "        <th>Site Safety Mgr Business Name</th>\n",
       "        <th>Superintendent First &amp; Last Name</th>\n",
       "        <th>Superintendent Business Name</th>\n",
       "        <th>Owner&#x27;s Business Type</th>\n",
       "        <th>Non-Profit</th>\n",
       "        <th>Owner&#x27;s Business Name</th>\n",
       "        <th>Owner&#x27;s First Name</th>\n",
       "        <th>Owner&#x27;s Last Name</th>\n",
       "        <th>Owner&#x27;s House #</th>\n",
       "        <th>Owner&#x27;s House Street Name</th>\n",
       "        <th>Owner’s House City</th>\n",
       "        <th>Owner’s House State</th>\n",
       "        <th>Owner’s House Zip Code</th>\n",
       "        <th>Owner&#x27;s Phone #</th>\n",
       "        <th>DOBRunDate</th>\n",
       "        <th>Latitude</th>\n",
       "        <th>Longitude</th>\n",
       "        <th>Council District</th>\n",
       "        <th>Census Tract</th>\n",
       "        <th>BBL</th>\n",
       "        <th>NTA</th>\n",
       "    </tr>\n",
       "    <tr>\n",
       "        <td>0</td>\n",
       "        <td>BRONX</td>\n",
       "        <td>2118801</td>\n",
       "        <td>2960</td>\n",
       "        <td>WEBSTER AVENUE</td>\n",
       "        <td>201088492</td>\n",
       "        <td>4</td>\n",
       "        <td>NB</td>\n",
       "        <td>None</td>\n",
       "        <td>3274.0</td>\n",
       "        <td>4</td>\n",
       "        <td>207</td>\n",
       "        <td>10458.0</td>\n",
       "        <td>2.0</td>\n",
       "        <td>None</td>\n",
       "        <td>None</td>\n",
       "        <td>None</td>\n",
       "        <td>PL</td>\n",
       "        <td>ISSUED</td>\n",
       "        <td>INITIAL</td>\n",
       "        <td>PL</td>\n",
       "        <td>1</td>\n",
       "        <td>None</td>\n",
       "        <td>None</td>\n",
       "        <td>None</td>\n",
       "        <td>2010-11-05 00:00:00.000000</td>\n",
       "        <td>2010-11-05 00:00:00.000000</td>\n",
       "        <td>2011-11-05 00:00:00.000000</td>\n",
       "        <td>2010-11-05 00:00:00.000000</td>\n",
       "        <td>LAWRENCE</td>\n",
       "        <td>LEVINE</td>\n",
       "        <td>PAR PLUMBING CO., INC</td>\n",
       "        <td>2129261088</td>\n",
       "        <td>MASTER PLUMBER</td>\n",
       "        <td>161</td>\n",
       "        <td>None</td>\n",
       "        <td>None</td>\n",
       "        <td>None</td>\n",
       "        <td>None</td>\n",
       "        <td>None</td>\n",
       "        <td>None</td>\n",
       "        <td>None</td>\n",
       "        <td>None</td>\n",
       "        <td>None</td>\n",
       "        <td>None</td>\n",
       "        <td>None</td>\n",
       "        <td>None</td>\n",
       "        <td>None</td>\n",
       "        <td>None</td>\n",
       "        <td>None</td>\n",
       "        <td>None</td>\n",
       "        <td>None</td>\n",
       "        <td>None</td>\n",
       "        <td>None</td>\n",
       "        <td>2016-01-03T00:00:00</td>\n",
       "        <td>40.867490000000004</td>\n",
       "        <td>-73.883225</td>\n",
       "        <td>11.0</td>\n",
       "        <td>425.0</td>\n",
       "        <td>2032740001.0</td>\n",
       "        <td>Norwood                                                                    </td>\n",
       "    </tr>\n",
       "    <tr>\n",
       "        <td>1</td>\n",
       "        <td>BRONX</td>\n",
       "        <td>2096812</td>\n",
       "        <td>100</td>\n",
       "        <td>DEKRUIF PLACE</td>\n",
       "        <td>200716298</td>\n",
       "        <td>2</td>\n",
       "        <td>A2</td>\n",
       "        <td>None</td>\n",
       "        <td>5141.0</td>\n",
       "        <td>120</td>\n",
       "        <td>209</td>\n",
       "        <td>10475.0</td>\n",
       "        <td>2.0</td>\n",
       "        <td>None</td>\n",
       "        <td>None</td>\n",
       "        <td>None</td>\n",
       "        <td>EQ</td>\n",
       "        <td>ISSUED</td>\n",
       "        <td>RENEWAL</td>\n",
       "        <td>EQ</td>\n",
       "        <td>12</td>\n",
       "        <td>FN</td>\n",
       "        <td>None</td>\n",
       "        <td>NONE</td>\n",
       "        <td>2012-01-30 00:00:00.000000</td>\n",
       "        <td>2012-01-30 00:00:00.000000</td>\n",
       "        <td>2013-01-29 00:00:00.000000</td>\n",
       "        <td>2002-08-08 00:00:00.000000</td>\n",
       "        <td>ANTHONY</td>\n",
       "        <td>RASULO</td>\n",
       "        <td>RIVERBAY CORP</td>\n",
       "        <td>7183203300</td>\n",
       "        <td>GENERAL CONTRACTOR</td>\n",
       "        <td>1962</td>\n",
       "        <td>None</td>\n",
       "        <td>None</td>\n",
       "        <td>None</td>\n",
       "        <td>None</td>\n",
       "        <td>None</td>\n",
       "        <td>None</td>\n",
       "        <td>None</td>\n",
       "        <td>None</td>\n",
       "        <td>None</td>\n",
       "        <td>None</td>\n",
       "        <td>None</td>\n",
       "        <td>None</td>\n",
       "        <td>None</td>\n",
       "        <td>None</td>\n",
       "        <td>None</td>\n",
       "        <td>None</td>\n",
       "        <td>None</td>\n",
       "        <td>None</td>\n",
       "        <td>None</td>\n",
       "        <td>2016-01-03T00:00:00</td>\n",
       "        <td>40.875769</td>\n",
       "        <td>-73.82889899999999</td>\n",
       "        <td>12.0</td>\n",
       "        <td>46201.0</td>\n",
       "        <td>2051410120.0</td>\n",
       "        <td>Co-op City                                                                 </td>\n",
       "    </tr>\n",
       "    <tr>\n",
       "        <td>2</td>\n",
       "        <td>BRONX</td>\n",
       "        <td>2008604</td>\n",
       "        <td>1898</td>\n",
       "        <td>HARRISON AVENUE</td>\n",
       "        <td>200974650</td>\n",
       "        <td>2</td>\n",
       "        <td>A2</td>\n",
       "        <td>None</td>\n",
       "        <td>2869.0</td>\n",
       "        <td>87</td>\n",
       "        <td>205</td>\n",
       "        <td>10453.0</td>\n",
       "        <td>2.0</td>\n",
       "        <td>None</td>\n",
       "        <td>None</td>\n",
       "        <td>None</td>\n",
       "        <td>PL</td>\n",
       "        <td>ISSUED</td>\n",
       "        <td>RENEWAL</td>\n",
       "        <td>PL</td>\n",
       "        <td>3</td>\n",
       "        <td>None</td>\n",
       "        <td>None</td>\n",
       "        <td>NONE</td>\n",
       "        <td>2008-02-04 00:00:00.000000</td>\n",
       "        <td>2008-02-04 00:00:00.000000</td>\n",
       "        <td>2009-02-03 00:00:00.000000</td>\n",
       "        <td>2005-08-29 00:00:00.000000</td>\n",
       "        <td>OSCAR</td>\n",
       "        <td>JACKSON</td>\n",
       "        <td>PERFECT PLUMBING &amp; HETING CORP</td>\n",
       "        <td>7185157055</td>\n",
       "        <td>MASTER PLUMBER</td>\n",
       "        <td>594</td>\n",
       "        <td>None</td>\n",
       "        <td>None</td>\n",
       "        <td>None</td>\n",
       "        <td>None</td>\n",
       "        <td>None</td>\n",
       "        <td>None</td>\n",
       "        <td>None</td>\n",
       "        <td>None</td>\n",
       "        <td>None</td>\n",
       "        <td>None</td>\n",
       "        <td>None</td>\n",
       "        <td>None</td>\n",
       "        <td>None</td>\n",
       "        <td>None</td>\n",
       "        <td>None</td>\n",
       "        <td>None</td>\n",
       "        <td>None</td>\n",
       "        <td>None</td>\n",
       "        <td>None</td>\n",
       "        <td>2016-01-03T00:00:00</td>\n",
       "        <td>40.852603</td>\n",
       "        <td>-73.911461</td>\n",
       "        <td>14.0</td>\n",
       "        <td>243.0</td>\n",
       "        <td>2028690087.0</td>\n",
       "        <td>University Heights-Morris Heights                                          </td>\n",
       "    </tr>\n",
       "    <tr>\n",
       "        <td>3</td>\n",
       "        <td>BRONX</td>\n",
       "        <td>2007652</td>\n",
       "        <td>1998</td>\n",
       "        <td>MORRIS AVENUE</td>\n",
       "        <td>200278118</td>\n",
       "        <td>2</td>\n",
       "        <td>A1</td>\n",
       "        <td>None</td>\n",
       "        <td>2807.0</td>\n",
       "        <td>15</td>\n",
       "        <td>205</td>\n",
       "        <td>10453.0</td>\n",
       "        <td>1.0</td>\n",
       "        <td>None</td>\n",
       "        <td>None</td>\n",
       "        <td>None</td>\n",
       "        <td>PL</td>\n",
       "        <td>ISSUED</td>\n",
       "        <td>INITIAL</td>\n",
       "        <td>PL</td>\n",
       "        <td>1</td>\n",
       "        <td>None</td>\n",
       "        <td>None</td>\n",
       "        <td>NONE</td>\n",
       "        <td>1998-08-31 00:00:00.000000</td>\n",
       "        <td>1998-08-31 00:00:00.000000</td>\n",
       "        <td>1999-08-31 00:00:00.000000</td>\n",
       "        <td>1998-08-31 00:00:00.000000</td>\n",
       "        <td>GERI</td>\n",
       "        <td>KAUUMBA</td>\n",
       "        <td>GOWIE PLUMBING</td>\n",
       "        <td>7188821281</td>\n",
       "        <td>MASTER PLUMBER</td>\n",
       "        <td>1137</td>\n",
       "        <td>Y</td>\n",
       "        <td>None</td>\n",
       "        <td>None</td>\n",
       "        <td>None</td>\n",
       "        <td>None</td>\n",
       "        <td>None</td>\n",
       "        <td>GOWIE PLUMBING</td>\n",
       "        <td>GOWIE PLUMBING</td>\n",
       "        <td>None</td>\n",
       "        <td>None</td>\n",
       "        <td>None</td>\n",
       "        <td>None</td>\n",
       "        <td>None</td>\n",
       "        <td>None</td>\n",
       "        <td>None</td>\n",
       "        <td>None</td>\n",
       "        <td>None</td>\n",
       "        <td>None</td>\n",
       "        <td>None</td>\n",
       "        <td>2016-01-03T00:00:00</td>\n",
       "        <td>40.851661</td>\n",
       "        <td>-73.906937</td>\n",
       "        <td>14.0</td>\n",
       "        <td>241.0</td>\n",
       "        <td>2028070015.0</td>\n",
       "        <td>Mount Hope                                                                 </td>\n",
       "    </tr>\n",
       "    <tr>\n",
       "        <td>4</td>\n",
       "        <td>BRONX</td>\n",
       "        <td>2084155</td>\n",
       "        <td>565</td>\n",
       "        <td>WEST  235 STREET</td>\n",
       "        <td>201119173</td>\n",
       "        <td>2</td>\n",
       "        <td>A2</td>\n",
       "        <td>Y</td>\n",
       "        <td>5794.0</td>\n",
       "        <td>484</td>\n",
       "        <td>208</td>\n",
       "        <td>10463.0</td>\n",
       "        <td>2.0</td>\n",
       "        <td>None</td>\n",
       "        <td>None</td>\n",
       "        <td>None</td>\n",
       "        <td>MH</td>\n",
       "        <td>ISSUED</td>\n",
       "        <td>INITIAL</td>\n",
       "        <td>EW</td>\n",
       "        <td>1</td>\n",
       "        <td>MH</td>\n",
       "        <td>None</td>\n",
       "        <td>NONE</td>\n",
       "        <td>2007-04-30 00:00:00.000000</td>\n",
       "        <td>2007-04-30 00:00:00.000000</td>\n",
       "        <td>2008-01-08 00:00:00.000000</td>\n",
       "        <td>2007-04-30 00:00:00.000000</td>\n",
       "        <td>GARY</td>\n",
       "        <td>ZYSMAN</td>\n",
       "        <td>THE DU-RITE INC</td>\n",
       "        <td>2013877000</td>\n",
       "        <td>GENERAL CONTRACTOR</td>\n",
       "        <td>9872</td>\n",
       "        <td>Y</td>\n",
       "        <td>None</td>\n",
       "        <td>None</td>\n",
       "        <td>None</td>\n",
       "        <td>None</td>\n",
       "        <td>None</td>\n",
       "        <td>THE DU-RITE INC</td>\n",
       "        <td>THE DU-RITE INC</td>\n",
       "        <td>None</td>\n",
       "        <td>None</td>\n",
       "        <td>None</td>\n",
       "        <td>None</td>\n",
       "        <td>None</td>\n",
       "        <td>None</td>\n",
       "        <td>None</td>\n",
       "        <td>None</td>\n",
       "        <td>None</td>\n",
       "        <td>None</td>\n",
       "        <td>None</td>\n",
       "        <td>2016-01-03T00:00:00</td>\n",
       "        <td>40.88572</td>\n",
       "        <td>-73.91027</td>\n",
       "        <td>11.0</td>\n",
       "        <td>297.0</td>\n",
       "        <td>2057940484.0</td>\n",
       "        <td>Spuyten Duyvil-Kingsbridge                                                 </td>\n",
       "    </tr>\n",
       "</table>"
      ],
      "text/plain": [
       "[(0, 'BRONX', 2118801, '2960', 'WEBSTER AVENUE', 201088492, 4, 'NB', None, 3274.0, '4', '207', 10458.0, 2.0, None, None, None, 'PL', 'ISSUED', 'INITIAL', 'PL', 1, None, None, None, '2010-11-05 00:00:00.000000', '2010-11-05 00:00:00.000000', '2011-11-05 00:00:00.000000', '2010-11-05 00:00:00.000000', 'LAWRENCE', 'LEVINE', 'PAR PLUMBING CO., INC', '2129261088', 'MASTER PLUMBER', '161', None, None, None, None, None, None, None, None, None, None, None, None, None, None, None, None, None, None, None, '2016-01-03T00:00:00', 40.867490000000004, -73.883225, 11.0, 425.0, 2032740001.0, 'Norwood                                                                    '),\n",
       " (1, 'BRONX', 2096812, '100', 'DEKRUIF PLACE', 200716298, 2, 'A2', None, 5141.0, '120', '209', 10475.0, 2.0, None, None, None, 'EQ', 'ISSUED', 'RENEWAL', 'EQ', 12, 'FN', None, 'NONE', '2012-01-30 00:00:00.000000', '2012-01-30 00:00:00.000000', '2013-01-29 00:00:00.000000', '2002-08-08 00:00:00.000000', 'ANTHONY', 'RASULO', 'RIVERBAY CORP', '7183203300', 'GENERAL CONTRACTOR', '1962', None, None, None, None, None, None, None, None, None, None, None, None, None, None, None, None, None, None, None, '2016-01-03T00:00:00', 40.875769, -73.82889899999999, 12.0, 46201.0, 2051410120.0, 'Co-op City                                                                 '),\n",
       " (2, 'BRONX', 2008604, '1898', 'HARRISON AVENUE', 200974650, 2, 'A2', None, 2869.0, '87', '205', 10453.0, 2.0, None, None, None, 'PL', 'ISSUED', 'RENEWAL', 'PL', 3, None, None, 'NONE', '2008-02-04 00:00:00.000000', '2008-02-04 00:00:00.000000', '2009-02-03 00:00:00.000000', '2005-08-29 00:00:00.000000', 'OSCAR', 'JACKSON', 'PERFECT PLUMBING & HETING CORP', '7185157055', 'MASTER PLUMBER', '594', None, None, None, None, None, None, None, None, None, None, None, None, None, None, None, None, None, None, None, '2016-01-03T00:00:00', 40.852603, -73.911461, 14.0, 243.0, 2028690087.0, 'University Heights-Morris Heights                                          '),\n",
       " (3, 'BRONX', 2007652, '1998', 'MORRIS AVENUE', 200278118, 2, 'A1', None, 2807.0, '15', '205', 10453.0, 1.0, None, None, None, 'PL', 'ISSUED', 'INITIAL', 'PL', 1, None, None, 'NONE', '1998-08-31 00:00:00.000000', '1998-08-31 00:00:00.000000', '1999-08-31 00:00:00.000000', '1998-08-31 00:00:00.000000', 'GERI', 'KAUUMBA', 'GOWIE PLUMBING', '7188821281', 'MASTER PLUMBER', '1137', 'Y', None, None, None, None, None, 'GOWIE PLUMBING', 'GOWIE PLUMBING', None, None, None, None, None, None, None, None, None, None, None, '2016-01-03T00:00:00', 40.851661, -73.906937, 14.0, 241.0, 2028070015.0, 'Mount Hope                                                                 '),\n",
       " (4, 'BRONX', 2084155, '565', 'WEST  235 STREET', 201119173, 2, 'A2', 'Y', 5794.0, '484', '208', 10463.0, 2.0, None, None, None, 'MH', 'ISSUED', 'INITIAL', 'EW', 1, 'MH', None, 'NONE', '2007-04-30 00:00:00.000000', '2007-04-30 00:00:00.000000', '2008-01-08 00:00:00.000000', '2007-04-30 00:00:00.000000', 'GARY', 'ZYSMAN', 'THE DU-RITE INC', '2013877000', 'GENERAL CONTRACTOR', '9872', 'Y', None, None, None, None, None, 'THE DU-RITE INC', 'THE DU-RITE INC', None, None, None, None, None, None, None, None, None, None, None, '2016-01-03T00:00:00', 40.88572, -73.91027, 11.0, 297.0, 2057940484.0, 'Spuyten Duyvil-Kingsbridge                                                 ')]"
      ]
     },
     "execution_count": 92,
     "metadata": {},
     "output_type": "execute_result"
    }
   ],
   "source": [
    "%%sql\n",
    "\n",
    "SELECT * FROM permits LIMIT 5"
   ]
  },
  {
   "cell_type": "code",
   "execution_count": 31,
   "metadata": {},
   "outputs": [
    {
     "name": "stdout",
     "output_type": "stream",
     "text": [
      " * sqlite:///permitsdb.sql\n",
      "Done.\n"
     ]
    },
    {
     "data": {
      "text/html": [
       "<table>\n",
       "    <tr>\n",
       "        <th>COUNT(&quot;Filing Status&quot;)</th>\n",
       "    </tr>\n",
       "    <tr>\n",
       "        <td>271030</td>\n",
       "    </tr>\n",
       "</table>"
      ],
      "text/plain": [
       "[(271030,)]"
      ]
     },
     "execution_count": 31,
     "metadata": {},
     "output_type": "execute_result"
    }
   ],
   "source": [
    "%%sql\n",
    "SELECT COUNT(\"Filing Status\") FROM permits\n",
    "WHERE \"Filing Status\" = \"RENEWAL\""
   ]
  },
  {
   "cell_type": "code",
   "execution_count": 32,
   "metadata": {},
   "outputs": [
    {
     "name": "stdout",
     "output_type": "stream",
     "text": [
      " * sqlite:///permitsdb.sql\n",
      "Done.\n"
     ]
    },
    {
     "data": {
      "text/html": [
       "<table>\n",
       "    <tr>\n",
       "        <th>BOROUGH</th>\n",
       "        <th>COUNT</th>\n",
       "    </tr>\n",
       "    <tr>\n",
       "        <td>BROOKLYN</td>\n",
       "        <td>367617</td>\n",
       "    </tr>\n",
       "    <tr>\n",
       "        <td>MANHATTAN</td>\n",
       "        <td>217507</td>\n",
       "    </tr>\n",
       "    <tr>\n",
       "        <td>BRONX</td>\n",
       "        <td>147328</td>\n",
       "    </tr>\n",
       "</table>"
      ],
      "text/plain": [
       "[('BROOKLYN', 367617), ('MANHATTAN', 217507), ('BRONX', 147328)]"
      ]
     },
     "execution_count": 32,
     "metadata": {},
     "output_type": "execute_result"
    }
   ],
   "source": [
    "%%sql \n",
    "SELECT BOROUGH, COUNT(*) AS COUNT FROM permits \n",
    "WHERE (SELECT (\"Expiration Date\" - \"Issuance Date\") AS DATE_DIFF)>=1\n",
    "GROUP BY BOROUGH\n",
    "ORDER BY COUNT DESC;"
   ]
  },
  {
   "cell_type": "code",
   "execution_count": 33,
   "metadata": {},
   "outputs": [
    {
     "name": "stdout",
     "output_type": "stream",
     "text": [
      " * sqlite:///permitsdb.sql\n",
      "Done.\n"
     ]
    },
    {
     "data": {
      "text/html": [
       "<table>\n",
       "    <tr>\n",
       "        <th>BOROUGH</th>\n",
       "        <th>MAX(COUNT)</th>\n",
       "    </tr>\n",
       "    <tr>\n",
       "        <td>BROOKLYN</td>\n",
       "        <td>367617</td>\n",
       "    </tr>\n",
       "</table>"
      ],
      "text/plain": [
       "[('BROOKLYN', 367617)]"
      ]
     },
     "execution_count": 33,
     "metadata": {},
     "output_type": "execute_result"
    }
   ],
   "source": [
    "%%sql\n",
    "SELECT BOROUGH, MAX(COUNT)\n",
    "FROM (SELECT BOROUGH,COUNT(*) AS COUNT \n",
    "FROM permits\n",
    "WHERE (SELECT (\"Expiration Date\" - \"Issuance Date\") AS DATE_DIFF)>=1\n",
    "GROUP BY BOROUGH);"
   ]
  },
  {
   "cell_type": "code",
   "execution_count": 16,
   "metadata": {},
   "outputs": [
    {
     "name": "stdout",
     "output_type": "stream",
     "text": [
      " * sqlite:///permitsdb.sql\n",
      "Done.\n"
     ]
    },
    {
     "data": {
      "text/html": [
       "<table>\n",
       "    <tr>\n",
       "        <th>MAX/SUM</th>\n",
       "    </tr>\n",
       "    <tr>\n",
       "        <td>0.5018991005553948</td>\n",
       "    </tr>\n",
       "</table>"
      ],
      "text/plain": [
       "[(0.5018991005553948,)]"
      ]
     },
     "execution_count": 16,
     "metadata": {},
     "output_type": "execute_result"
    }
   ],
   "source": [
    "%%sql\n",
    "SELECT MAX/SUM\n",
    "FROM (SELECT BOROUGH, CAST(MAX(COUNT) AS FLOAT) AS MAX, CAST(SUM(COUNT) AS FLOAT) AS SUM\n",
    "FROM (SELECT BOROUGH,COUNT(*) AS COUNT \n",
    "FROM permits\n",
    "WHERE (SELECT (\"Expiration Date\" - \"Issuance Date\") AS DATE_DIFF)>=1\n",
    "GROUP BY BOROUGH));"
   ]
  },
  {
   "cell_type": "code",
   "execution_count": 34,
   "metadata": {},
   "outputs": [
    {
     "name": "stdout",
     "output_type": "stream",
     "text": [
      " * sqlite:///permitsdb.sql\n",
      "Done.\n"
     ]
    },
    {
     "data": {
      "text/html": [
       "<table>\n",
       "    <tr>\n",
       "        <th>COUNT(*)</th>\n",
       "    </tr>\n",
       "    <tr>\n",
       "        <td>78144</td>\n",
       "    </tr>\n",
       "</table>"
      ],
      "text/plain": [
       "[(78144,)]"
      ]
     },
     "execution_count": 34,
     "metadata": {},
     "output_type": "execute_result"
    }
   ],
   "source": [
    "%%sql \n",
    "SELECT COUNT(*)\n",
    "FROM permits \n",
    "WHERE \"Owner's Business Type\"=\"CORPORATION\" AND \"Filing Status\" = \"RENEWAL\";"
   ]
  },
  {
   "cell_type": "code",
   "execution_count": 18,
   "metadata": {},
   "outputs": [
    {
     "name": "stdout",
     "output_type": "stream",
     "text": [
      " * sqlite:///permitsdb.sql\n",
      "Done.\n"
     ]
    },
    {
     "data": {
      "text/html": [
       "<table>\n",
       "    <tr>\n",
       "        <th>COUNT(*)</th>\n",
       "    </tr>\n",
       "    <tr>\n",
       "        <td>79054</td>\n",
       "    </tr>\n",
       "</table>"
      ],
      "text/plain": [
       "[(79054,)]"
      ]
     },
     "execution_count": 18,
     "metadata": {},
     "output_type": "execute_result"
    }
   ],
   "source": [
    "%%sql\n",
    "SELECT COUNT(*)\n",
    "FROM permits \n",
    "WHERE \"Owner's Business Type\"=\"INDIVIDUAL\" AND \"Filing Status\" = \"RENEWAL\";"
   ]
  },
  {
   "cell_type": "code",
   "execution_count": 19,
   "metadata": {},
   "outputs": [
    {
     "name": "stdout",
     "output_type": "stream",
     "text": [
      " * sqlite:///permitsdb.sql\n",
      "Done.\n"
     ]
    },
    {
     "data": {
      "text/html": [
       "<table>\n",
       "    <tr>\n",
       "        <th>Owner&#x27;s Business Type</th>\n",
       "        <th>COUNT</th>\n",
       "    </tr>\n",
       "    <tr>\n",
       "        <td>CORPORATION</td>\n",
       "        <td>78144</td>\n",
       "    </tr>\n",
       "    <tr>\n",
       "        <td>INDIVIDUAL</td>\n",
       "        <td>79054</td>\n",
       "    </tr>\n",
       "</table>"
      ],
      "text/plain": [
       "[('CORPORATION', 78144), ('INDIVIDUAL', 79054)]"
      ]
     },
     "execution_count": 19,
     "metadata": {},
     "output_type": "execute_result"
    }
   ],
   "source": [
    "%%sql\n",
    "+6321.0\n",
    "\n",
    "SELECT \"Owner's Business Type\", COUNT(*) AS COUNT\n",
    "FROM permits\n",
    "WHERE \"Filing Status\" = \"RENEWAL\" AND \"Owner's Business Type\" IN (\"CORPORATION\",'INDIVIDUAL')\n",
    "GROUP BY \"Owner's Business Type\";"
   ]
  },
  {
   "cell_type": "code",
   "execution_count": 20,
   "metadata": {},
   "outputs": [
    {
     "name": "stdout",
     "output_type": "stream",
     "text": [
      "  Owner's Business Type  COUNT\n",
      "0           CORPORATION  78144\n",
      "1            INDIVIDUAL  79054\n",
      "ratio: 0.9884888810180383\n"
     ]
    }
   ],
   "source": [
    "sql_query = '''SELECT \"Owner's Business Type\", COUNT(*) AS COUNT\n",
    "FROM permits\n",
    "WHERE \"Filing Status\" = \"RENEWAL\" AND \"Owner's Business Type\" IN (\"CORPORATION\",'INDIVIDUAL')\n",
    "GROUP BY \"Owner's Business Type\"'''\n",
    "counts = pd.read_sql_query(sql_query, con='sqlite:///permitsdb.sql')\n",
    "print(counts)\n",
    "ratio = counts[\"COUNT\"].loc[0]/counts[\"COUNT\"].loc[1]\n",
    "print(\"ratio:\",ratio)"
   ]
  },
  {
   "cell_type": "code",
   "execution_count": 60,
   "metadata": {},
   "outputs": [
    {
     "name": "stdout",
     "output_type": "stream",
     "text": [
      " * sqlite:///permitsdb.sql\n",
      "Done.\n"
     ]
    },
    {
     "data": {
      "text/html": [
       "<table>\n",
       "    <tr>\n",
       "        <th>Postcode</th>\n",
       "        <th>NUM_PERMITS</th>\n",
       "    </tr>\n",
       "    <tr>\n",
       "        <td>11201.0</td>\n",
       "        <td>2179</td>\n",
       "    </tr>\n",
       "    <tr>\n",
       "        <td>11215.0</td>\n",
       "        <td>1552</td>\n",
       "    </tr>\n",
       "    <tr>\n",
       "        <td>11211.0</td>\n",
       "        <td>1288</td>\n",
       "    </tr>\n",
       "    <tr>\n",
       "        <td>11238.0</td>\n",
       "        <td>1211</td>\n",
       "    </tr>\n",
       "    <tr>\n",
       "        <td>11220.0</td>\n",
       "        <td>1187</td>\n",
       "    </tr>\n",
       "</table>"
      ],
      "text/plain": [
       "[(11201.0, 2179),\n",
       " (11215.0, 1552),\n",
       " (11211.0, 1288),\n",
       " (11238.0, 1211),\n",
       " (11220.0, 1187)]"
      ]
     },
     "execution_count": 60,
     "metadata": {},
     "output_type": "execute_result"
    }
   ],
   "source": [
    "%%sql \n",
    "SELECT Postcode, COUNT(*) AS NUM_PERMITS\n",
    "FROM permits\n",
    "WHERE \"Filing Date\" BETWEEN '2010-01-01 00:00:00.000' AND '2010-12-31 23:59:59.998'\n",
    "GROUP BY Postcode\n",
    "ORDER BY COUNT(*) DESC\n",
    "LIMIT 5;"
   ]
  },
  {
   "cell_type": "code",
   "execution_count": 36,
   "metadata": {},
   "outputs": [
    {
     "name": "stdout",
     "output_type": "stream",
     "text": [
      " * sqlite:///permitsdb.sql\n",
      "Done.\n"
     ]
    },
    {
     "data": {
      "text/html": [
       "<table>\n",
       "    <tr>\n",
       "        <th>Postcode</th>\n",
       "        <th>NUM_PERMITS</th>\n",
       "        <th>POPULATION</th>\n",
       "    </tr>\n",
       "    <tr>\n",
       "        <td>11201.0</td>\n",
       "        <td>2179</td>\n",
       "        <td>11201</td>\n",
       "    </tr>\n",
       "    <tr>\n",
       "        <td>10456.0</td>\n",
       "        <td>1282</td>\n",
       "        <td>10456</td>\n",
       "    </tr>\n",
       "    <tr>\n",
       "        <td>10460.0</td>\n",
       "        <td>1200</td>\n",
       "        <td>10460</td>\n",
       "    </tr>\n",
       "    <tr>\n",
       "        <td>11235.0</td>\n",
       "        <td>1129</td>\n",
       "        <td>11235</td>\n",
       "    </tr>\n",
       "    <tr>\n",
       "        <td>10021.0</td>\n",
       "        <td>1088</td>\n",
       "        <td>10021</td>\n",
       "    </tr>\n",
       "</table>"
      ],
      "text/plain": [
       "[(11201.0, 2179, 11201),\n",
       " (10456.0, 1282, 10456),\n",
       " (10460.0, 1200, 10460),\n",
       " (11235.0, 1129, 11235),\n",
       " (10021.0, 1088, 10021)]"
      ]
     },
     "execution_count": 36,
     "metadata": {},
     "output_type": "execute_result"
    }
   ],
   "source": [
    "%%sql\n",
    "\n",
    "SELECT Postcode, COUNT(*) AS NUM_PERMITS, POPULATION.\"2010 Census Population\" As POPULATION\n",
    "FROM permits\n",
    "LEFT JOIN POPULATION\n",
    "ON POPULATION.\"2010 Census Population\" = permits.Postcode\n",
    "WHERE POPULATION.\"2010 Census Population\" >=1000 AND permits.\"Filing Date\" BETWEEN '2010-01-01 00:00:00.000' AND '2010-12-31 23:59:59.998'\n",
    "GROUP BY Postcode\n",
    "ORDER BY COUNT(*) DESC\n",
    "LIMIT 5;"
   ]
  },
  {
   "cell_type": "code",
   "execution_count": 61,
   "metadata": {},
   "outputs": [
    {
     "name": "stdout",
     "output_type": "stream",
     "text": [
      "   Postcode  NUM_PERMITS  2010 Census Population\n",
      "0   11201.0         2179                   11201\n",
      "1   10456.0         1282                   10456\n",
      "2   10460.0         1200                   10460\n",
      "3   11235.0         1129                   11235\n",
      "4   10021.0         1088                   10021\n"
     ]
    }
   ],
   "source": [
    "sql_query = '''SELECT Postcode, COUNT(*) AS NUM_PERMITS, POPULATION.\"2010 Census Population\"\n",
    "FROM permits\n",
    "LEFT JOIN POPULATION\n",
    "ON POPULATION.\"2010 Census Population\" = permits.Postcode\n",
    "WHERE POPULATION.\"2010 Census Population\" >=1000 AND permits.\"Filing Date\" BETWEEN '2010-01-01 00:00:00.000' AND '2010-12-31 23:59:59.998'\n",
    "GROUP BY Postcode\n",
    "ORDER BY COUNT(*) DESC'''\n",
    "joined = pd.read_sql_query(sql_query, con='sqlite:///permitsdb.sql')\n",
    "print(joined.head())"
   ]
  },
  {
   "cell_type": "code",
   "execution_count": 25,
   "metadata": {},
   "outputs": [],
   "source": [
    "joined['ratio'] = joined[\"NUM_PERMITS\"]/joined['2010 Census Population']"
   ]
  },
  {
   "cell_type": "code",
   "execution_count": 33,
   "metadata": {},
   "outputs": [],
   "source": [
    "joined['zscore'] = stats.zscore(joined['ratio'])"
   ]
  },
  {
   "cell_type": "code",
   "execution_count": 36,
   "metadata": {},
   "outputs": [
    {
     "data": {
      "text/plain": [
       "1"
      ]
     },
     "execution_count": 36,
     "metadata": {},
     "output_type": "execute_result"
    }
   ],
   "source": [
    "len(joined[joined['zscore']>=2])"
   ]
  },
  {
   "cell_type": "code",
   "execution_count": 52,
   "metadata": {},
   "outputs": [],
   "source": [
    "pd.set_option('display.max_columns', None)\n",
    "pd.set_option('display.max_rows', None)"
   ]
  },
  {
   "cell_type": "code",
   "execution_count": 80,
   "metadata": {
    "scrolled": true
   },
   "outputs": [
    {
     "name": "stdout",
     "output_type": "stream",
     "text": [
      " * sqlite:///permitsdb.sql\n",
      "Done.\n"
     ]
    },
    {
     "data": {
      "text/html": [
       "<table>\n",
       "    <tr>\n",
       "        <th>strftime(&quot;%Y&quot;, &quot;Issuance Date&quot;)</th>\n",
       "        <th>COUNT(*)</th>\n",
       "    </tr>\n",
       "    <tr>\n",
       "        <td>1989</td>\n",
       "        <td>177</td>\n",
       "    </tr>\n",
       "    <tr>\n",
       "        <td>1990</td>\n",
       "        <td>7499</td>\n",
       "    </tr>\n",
       "    <tr>\n",
       "        <td>1991</td>\n",
       "        <td>20038</td>\n",
       "    </tr>\n",
       "    <tr>\n",
       "        <td>1992</td>\n",
       "        <td>23367</td>\n",
       "    </tr>\n",
       "    <tr>\n",
       "        <td>1993</td>\n",
       "        <td>25595</td>\n",
       "    </tr>\n",
       "</table>"
      ],
      "text/plain": [
       "[('1989', 177),\n",
       " ('1990', 7499),\n",
       " ('1991', 20038),\n",
       " ('1992', 23367),\n",
       " ('1993', 25595)]"
      ]
     },
     "execution_count": 80,
     "metadata": {},
     "output_type": "execute_result"
    }
   ],
   "source": [
    "%%sql\n",
    "\n",
    "SELECT strftime(\"%Y\", \"Issuance Date\"), COUNT(*) \n",
    "FROM permits\n",
    "GROUP BY strftime(\"%Y\", \"Issuance Date\")\n",
    "LIMIT 5;"
   ]
  },
  {
   "cell_type": "code",
   "execution_count": 150,
   "metadata": {},
   "outputs": [
    {
     "name": "stdout",
     "output_type": "stream",
     "text": [
      " * sqlite:///permitsdb.sql\n",
      "Done.\n"
     ]
    },
    {
     "data": {
      "text/html": [
       "<table>\n",
       "    <tr>\n",
       "        <th>Job Start Date</th>\n",
       "    </tr>\n",
       "    <tr>\n",
       "        <td>2010-11-05 00:00:00.000000</td>\n",
       "    </tr>\n",
       "    <tr>\n",
       "        <td>2002-08-08 00:00:00.000000</td>\n",
       "    </tr>\n",
       "    <tr>\n",
       "        <td>2005-08-29 00:00:00.000000</td>\n",
       "    </tr>\n",
       "    <tr>\n",
       "        <td>1998-08-31 00:00:00.000000</td>\n",
       "    </tr>\n",
       "    <tr>\n",
       "        <td>2007-04-30 00:00:00.000000</td>\n",
       "    </tr>\n",
       "</table>"
      ],
      "text/plain": [
       "[('2010-11-05 00:00:00.000000',),\n",
       " ('2002-08-08 00:00:00.000000',),\n",
       " ('2005-08-29 00:00:00.000000',),\n",
       " ('1998-08-31 00:00:00.000000',),\n",
       " ('2007-04-30 00:00:00.000000',)]"
      ]
     },
     "execution_count": 150,
     "metadata": {},
     "output_type": "execute_result"
    }
   ],
   "source": [
    "%%sql\n",
    "\n",
    "SELECT \"Job Start Date\"\n",
    "FROM permits\n",
    "LIMIT 5;"
   ]
  },
  {
   "cell_type": "code",
   "execution_count": 67,
   "metadata": {},
   "outputs": [
    {
     "name": "stdout",
     "output_type": "stream",
     "text": [
      " * sqlite:///permitsdb.sql\n",
      "Done.\n"
     ]
    },
    {
     "data": {
      "text/html": [
       "<table>\n",
       "    <tr>\n",
       "        <th>MonthStart</th>\n",
       "        <th>YearStart</th>\n",
       "        <th>NUM_PERMITS</th>\n",
       "    </tr>\n",
       "    <tr>\n",
       "        <td>None</td>\n",
       "        <td>None</td>\n",
       "        <td>13</td>\n",
       "    </tr>\n",
       "    <tr>\n",
       "        <td>10</td>\n",
       "        <td>1989</td>\n",
       "        <td>1</td>\n",
       "    </tr>\n",
       "    <tr>\n",
       "        <td>10</td>\n",
       "        <td>1989</td>\n",
       "        <td>1</td>\n",
       "    </tr>\n",
       "    <tr>\n",
       "        <td>10</td>\n",
       "        <td>1989</td>\n",
       "        <td>1</td>\n",
       "    </tr>\n",
       "    <tr>\n",
       "        <td>10</td>\n",
       "        <td>1989</td>\n",
       "        <td>1</td>\n",
       "    </tr>\n",
       "</table>"
      ],
      "text/plain": [
       "[(None, None, 13),\n",
       " ('10', '1989', 1),\n",
       " ('10', '1989', 1),\n",
       " ('10', '1989', 1),\n",
       " ('10', '1989', 1)]"
      ]
     },
     "execution_count": 67,
     "metadata": {},
     "output_type": "execute_result"
    }
   ],
   "source": [
    "%%sql\n",
    "\n",
    "SELECT strftime('%m', \"Job Start Date\") AS MonthStart, strftime('%Y', \"Job Start Date\") AS YearStart, COUNT(*) AS NUM_PERMITS\n",
    "FROM permits\n",
    "GROUP BY \"Job Start Date\"\n",
    "LIMIT 5;"
   ]
  },
  {
   "cell_type": "code",
   "execution_count": 66,
   "metadata": {},
   "outputs": [
    {
     "name": "stdout",
     "output_type": "stream",
     "text": [
      "  MonthStart YearStart  NUM_PERMITS\n",
      "0       None      None           13\n",
      "1         10      1989            1\n",
      "2         10      1989            1\n",
      "3         10      1989            1\n",
      "4         10      1989            1\n"
     ]
    }
   ],
   "source": [
    "sql_query = '''SELECT strftime('%m', \"Job Start Date\") AS MonthStart, strftime('%Y', \"Job Start Date\") AS YearStart, COUNT(*) AS NUM_PERMITS\n",
    "FROM permits\n",
    "GROUP BY \"Job Start Date\"'''\n",
    "to_ratio = pd.read_sql_query(sql_query, con='sqlite:///permitsdb.sql')\n",
    "print(to_ratio.head())"
   ]
  },
  {
   "cell_type": "code",
   "execution_count": 78,
   "metadata": {},
   "outputs": [],
   "source": [
    "to_ratio = to_ratio[(to_ratio['YearStart'].astype(float)>1989) & (to_ratio['YearStart'].astype(float)<2013)]"
   ]
  },
  {
   "cell_type": "code",
   "execution_count": 79,
   "metadata": {},
   "outputs": [],
   "source": [
    "months = [1,2,7,8]\n",
    "to_ratio = to_ratio[to_ratio['MonthStart'].astype(float).isin(months)]"
   ]
  },
  {
   "cell_type": "code",
   "execution_count": 80,
   "metadata": {},
   "outputs": [],
   "source": [
    "to_ratio_grouped = to_ratio.groupby(['YearStart','MonthStart']).sum()"
   ]
  },
  {
   "cell_type": "code",
   "execution_count": 81,
   "metadata": {},
   "outputs": [
    {
     "data": {
      "text/html": [
       "<div>\n",
       "<style scoped>\n",
       "    .dataframe tbody tr th:only-of-type {\n",
       "        vertical-align: middle;\n",
       "    }\n",
       "\n",
       "    .dataframe tbody tr th {\n",
       "        vertical-align: top;\n",
       "    }\n",
       "\n",
       "    .dataframe thead th {\n",
       "        text-align: right;\n",
       "    }\n",
       "</style>\n",
       "<table border=\"1\" class=\"dataframe\">\n",
       "  <thead>\n",
       "    <tr style=\"text-align: right;\">\n",
       "      <th></th>\n",
       "      <th></th>\n",
       "      <th>NUM_PERMITS</th>\n",
       "    </tr>\n",
       "    <tr>\n",
       "      <th>YearStart</th>\n",
       "      <th>MonthStart</th>\n",
       "      <th></th>\n",
       "    </tr>\n",
       "  </thead>\n",
       "  <tbody>\n",
       "    <tr>\n",
       "      <th rowspan=\"4\" valign=\"top\">1990</th>\n",
       "      <th>01</th>\n",
       "      <td>110</td>\n",
       "    </tr>\n",
       "    <tr>\n",
       "      <th>02</th>\n",
       "      <td>194</td>\n",
       "    </tr>\n",
       "    <tr>\n",
       "      <th>07</th>\n",
       "      <td>1018</td>\n",
       "    </tr>\n",
       "    <tr>\n",
       "      <th>08</th>\n",
       "      <td>956</td>\n",
       "    </tr>\n",
       "    <tr>\n",
       "      <th>1991</th>\n",
       "      <th>01</th>\n",
       "      <td>1303</td>\n",
       "    </tr>\n",
       "  </tbody>\n",
       "</table>\n",
       "</div>"
      ],
      "text/plain": [
       "                      NUM_PERMITS\n",
       "YearStart MonthStart             \n",
       "1990      01                  110\n",
       "          02                  194\n",
       "          07                 1018\n",
       "          08                  956\n",
       "1991      01                 1303"
      ]
     },
     "execution_count": 81,
     "metadata": {},
     "output_type": "execute_result"
    }
   ],
   "source": [
    "to_ratio_grouped.head()"
   ]
  },
  {
   "cell_type": "code",
   "execution_count": 97,
   "metadata": {},
   "outputs": [],
   "source": [
    "x = to_ratio_grouped[\"NUM_PERMITS\"]\n",
    "results = [(x[i]+x[i+1])/(x[i+2]+x[i+3]) for i in range(0,len(to_ratio_grouped),4)]"
   ]
  },
  {
   "cell_type": "code",
   "execution_count": 98,
   "metadata": {},
   "outputs": [
    {
     "data": {
      "text/html": [
       "<div>\n",
       "<style scoped>\n",
       "    .dataframe tbody tr th:only-of-type {\n",
       "        vertical-align: middle;\n",
       "    }\n",
       "\n",
       "    .dataframe tbody tr th {\n",
       "        vertical-align: top;\n",
       "    }\n",
       "\n",
       "    .dataframe thead th {\n",
       "        text-align: right;\n",
       "    }\n",
       "</style>\n",
       "<table border=\"1\" class=\"dataframe\">\n",
       "  <thead>\n",
       "    <tr style=\"text-align: right;\">\n",
       "      <th></th>\n",
       "      <th></th>\n",
       "      <th>NUM_PERMITS</th>\n",
       "    </tr>\n",
       "    <tr>\n",
       "      <th>YearStart</th>\n",
       "      <th>MonthStart</th>\n",
       "      <th></th>\n",
       "    </tr>\n",
       "  </thead>\n",
       "  <tbody>\n",
       "    <tr>\n",
       "      <th rowspan=\"4\" valign=\"top\">1990</th>\n",
       "      <th>01</th>\n",
       "      <td>110</td>\n",
       "    </tr>\n",
       "    <tr>\n",
       "      <th>02</th>\n",
       "      <td>194</td>\n",
       "    </tr>\n",
       "    <tr>\n",
       "      <th>07</th>\n",
       "      <td>1018</td>\n",
       "    </tr>\n",
       "    <tr>\n",
       "      <th>08</th>\n",
       "      <td>956</td>\n",
       "    </tr>\n",
       "    <tr>\n",
       "      <th>1991</th>\n",
       "      <th>01</th>\n",
       "      <td>1303</td>\n",
       "    </tr>\n",
       "  </tbody>\n",
       "</table>\n",
       "</div>"
      ],
      "text/plain": [
       "                      NUM_PERMITS\n",
       "YearStart MonthStart             \n",
       "1990      01                  110\n",
       "          02                  194\n",
       "          07                 1018\n",
       "          08                  956\n",
       "1991      01                 1303"
      ]
     },
     "execution_count": 98,
     "metadata": {},
     "output_type": "execute_result"
    }
   ],
   "source": [
    "to_ratio_grouped.head()"
   ]
  },
  {
   "cell_type": "code",
   "execution_count": 99,
   "metadata": {
    "scrolled": true
   },
   "outputs": [
    {
     "data": {
      "text/html": [
       "<div>\n",
       "<style scoped>\n",
       "    .dataframe tbody tr th:only-of-type {\n",
       "        vertical-align: middle;\n",
       "    }\n",
       "\n",
       "    .dataframe tbody tr th {\n",
       "        vertical-align: top;\n",
       "    }\n",
       "\n",
       "    .dataframe thead th {\n",
       "        text-align: right;\n",
       "    }\n",
       "</style>\n",
       "<table border=\"1\" class=\"dataframe\">\n",
       "  <thead>\n",
       "    <tr style=\"text-align: right;\">\n",
       "      <th></th>\n",
       "      <th>Ratio of Summer Start Dates to Winter</th>\n",
       "    </tr>\n",
       "  </thead>\n",
       "  <tbody>\n",
       "    <tr>\n",
       "      <th>1990</th>\n",
       "      <td>0.154002</td>\n",
       "    </tr>\n",
       "    <tr>\n",
       "      <th>1991</th>\n",
       "      <td>0.643812</td>\n",
       "    </tr>\n",
       "    <tr>\n",
       "      <th>1992</th>\n",
       "      <td>1.000725</td>\n",
       "    </tr>\n",
       "    <tr>\n",
       "      <th>1993</th>\n",
       "      <td>0.770508</td>\n",
       "    </tr>\n",
       "    <tr>\n",
       "      <th>1994</th>\n",
       "      <td>0.802102</td>\n",
       "    </tr>\n",
       "  </tbody>\n",
       "</table>\n",
       "</div>"
      ],
      "text/plain": [
       "      Ratio of Summer Start Dates to Winter\n",
       "1990                               0.154002\n",
       "1991                               0.643812\n",
       "1992                               1.000725\n",
       "1993                               0.770508\n",
       "1994                               0.802102"
      ]
     },
     "execution_count": 99,
     "metadata": {},
     "output_type": "execute_result"
    }
   ],
   "source": [
    "ratio_df = pd.DataFrame(pd.Series(results, name=\"Ratio of Summer Start Dates to Winter\", index = range(1990, 2013)))\n",
    "ratio_df.head()"
   ]
  },
  {
   "cell_type": "code",
   "execution_count": 100,
   "metadata": {},
   "outputs": [
    {
     "data": {
      "text/plain": [
       "Ratio of Summer Start Dates to Winter    1.000725\n",
       "dtype: float64"
      ]
     },
     "execution_count": 100,
     "metadata": {},
     "output_type": "execute_result"
    }
   ],
   "source": [
    "ratio_df.max()"
   ]
  },
  {
   "cell_type": "code",
   "execution_count": 87,
   "metadata": {
    "scrolled": true
   },
   "outputs": [
    {
     "name": "stdout",
     "output_type": "stream",
     "text": [
      " * sqlite:///permitsdb.sql\n",
      "Done.\n"
     ]
    },
    {
     "data": {
      "text/html": [
       "<table>\n",
       "    <tr>\n",
       "        <th>MonthStart</th>\n",
       "        <th>PermitLength</th>\n",
       "    </tr>\n",
       "    <tr>\n",
       "        <td>11</td>\n",
       "        <td>365</td>\n",
       "    </tr>\n",
       "    <tr>\n",
       "        <td>08</td>\n",
       "        <td>365</td>\n",
       "    </tr>\n",
       "    <tr>\n",
       "        <td>08</td>\n",
       "        <td>365</td>\n",
       "    </tr>\n",
       "    <tr>\n",
       "        <td>08</td>\n",
       "        <td>365</td>\n",
       "    </tr>\n",
       "    <tr>\n",
       "        <td>04</td>\n",
       "        <td>253</td>\n",
       "    </tr>\n",
       "</table>"
      ],
      "text/plain": [
       "[('11', 365), ('08', 365), ('08', 365), ('08', 365), ('04', 253)]"
      ]
     },
     "execution_count": 87,
     "metadata": {},
     "output_type": "execute_result"
    }
   ],
   "source": [
    "%%sql\n",
    "\n",
    "SELECT strftime('%m', \"Job Start Date\") AS MonthStart, CAST((julianday(\"Expiration Date\") - julianday(\"Issuance Date\")) AS integer) AS PermitLength\n",
    "FROM permits\n",
    "WHERE permits.\"Job Start Date\" BETWEEN '1990-01-01 00:00:00.000' AND '2012-12-31 23:59:59.998'\n",
    "LIMIT 5;"
   ]
  },
  {
   "cell_type": "code",
   "execution_count": 88,
   "metadata": {},
   "outputs": [],
   "source": [
    "sql_query = '''SELECT strftime('%m', \"Job Start Date\") AS MonthStart, CAST((julianday(\"Expiration Date\") - julianday(\"Issuance Date\")) AS integer) AS PermitLength\n",
    "FROM permits\n",
    "WHERE permits.\"Job Start Date\" BETWEEN \"1990-01-01 00:00:00.000\" AND \"2012-12-31 23:59:59.998\"'''\n",
    "chisq_test = pd.read_sql_query(sql_query, con='sqlite:///permitsdb.sql')"
   ]
  },
  {
   "cell_type": "code",
   "execution_count": 89,
   "metadata": {},
   "outputs": [
    {
     "name": "stdout",
     "output_type": "stream",
     "text": [
      "        MonthStart  PermitLength\n",
      "0               11         365.0\n",
      "1               08         365.0\n",
      "2               08         365.0\n",
      "3               08         365.0\n",
      "4               04         253.0\n",
      "...            ...           ...\n",
      "1033844         08         129.0\n",
      "1033845         08         365.0\n",
      "1033846         02          12.0\n",
      "1033847         05         365.0\n",
      "1033848         09         185.0\n",
      "\n",
      "[1033849 rows x 2 columns]\n"
     ]
    },
    {
     "data": {
      "text/plain": [
       "MonthStart        int32\n",
       "PermitLength    float64\n",
       "dtype: object"
      ]
     },
     "execution_count": 89,
     "metadata": {},
     "output_type": "execute_result"
    }
   ],
   "source": [
    "print(chisq_test)\n",
    "chisq_test['MonthStart'] = chisq_test['MonthStart'].astype(int)\n",
    "chisq_test.dtypes"
   ]
  },
  {
   "cell_type": "code",
   "execution_count": 90,
   "metadata": {},
   "outputs": [],
   "source": [
    "chisq_test_grouped = chisq_test.groupby(['MonthStart']).mean()"
   ]
  },
  {
   "cell_type": "code",
   "execution_count": 91,
   "metadata": {},
   "outputs": [
    {
     "data": {
      "text/html": [
       "<div>\n",
       "<style scoped>\n",
       "    .dataframe tbody tr th:only-of-type {\n",
       "        vertical-align: middle;\n",
       "    }\n",
       "\n",
       "    .dataframe tbody tr th {\n",
       "        vertical-align: top;\n",
       "    }\n",
       "\n",
       "    .dataframe thead th {\n",
       "        text-align: right;\n",
       "    }\n",
       "</style>\n",
       "<table border=\"1\" class=\"dataframe\">\n",
       "  <thead>\n",
       "    <tr style=\"text-align: right;\">\n",
       "      <th></th>\n",
       "      <th>PermitLength</th>\n",
       "    </tr>\n",
       "    <tr>\n",
       "      <th>MonthStart</th>\n",
       "      <th></th>\n",
       "    </tr>\n",
       "  </thead>\n",
       "  <tbody>\n",
       "    <tr>\n",
       "      <th>1</th>\n",
       "      <td>270.299757</td>\n",
       "    </tr>\n",
       "    <tr>\n",
       "      <th>2</th>\n",
       "      <td>266.453262</td>\n",
       "    </tr>\n",
       "    <tr>\n",
       "      <th>3</th>\n",
       "      <td>268.992811</td>\n",
       "    </tr>\n",
       "    <tr>\n",
       "      <th>4</th>\n",
       "      <td>270.919288</td>\n",
       "    </tr>\n",
       "    <tr>\n",
       "      <th>5</th>\n",
       "      <td>271.081427</td>\n",
       "    </tr>\n",
       "    <tr>\n",
       "      <th>6</th>\n",
       "      <td>268.274203</td>\n",
       "    </tr>\n",
       "    <tr>\n",
       "      <th>7</th>\n",
       "      <td>269.485996</td>\n",
       "    </tr>\n",
       "    <tr>\n",
       "      <th>8</th>\n",
       "      <td>264.258961</td>\n",
       "    </tr>\n",
       "    <tr>\n",
       "      <th>9</th>\n",
       "      <td>260.661893</td>\n",
       "    </tr>\n",
       "    <tr>\n",
       "      <th>10</th>\n",
       "      <td>257.791885</td>\n",
       "    </tr>\n",
       "    <tr>\n",
       "      <th>11</th>\n",
       "      <td>257.549138</td>\n",
       "    </tr>\n",
       "    <tr>\n",
       "      <th>12</th>\n",
       "      <td>260.308672</td>\n",
       "    </tr>\n",
       "  </tbody>\n",
       "</table>\n",
       "</div>"
      ],
      "text/plain": [
       "            PermitLength\n",
       "MonthStart              \n",
       "1             270.299757\n",
       "2             266.453262\n",
       "3             268.992811\n",
       "4             270.919288\n",
       "5             271.081427\n",
       "6             268.274203\n",
       "7             269.485996\n",
       "8             264.258961\n",
       "9             260.661893\n",
       "10            257.791885\n",
       "11            257.549138\n",
       "12            260.308672"
      ]
     },
     "execution_count": 91,
     "metadata": {},
     "output_type": "execute_result"
    }
   ],
   "source": [
    "chisq_test_grouped"
   ]
  },
  {
   "cell_type": "code",
   "execution_count": 59,
   "metadata": {},
   "outputs": [
    {
     "data": {
      "text/plain": [
       "Power_divergenceResult(statistic=array([1.11025396]), pvalue=array([0.99991447]))"
      ]
     },
     "execution_count": 59,
     "metadata": {},
     "output_type": "execute_result"
    }
   ],
   "source": [
    "stats.chisquare(chisq_test_grouped)"
   ]
  },
  {
   "cell_type": "code",
   "execution_count": null,
   "metadata": {},
   "outputs": [],
   "source": []
  }
 ],
 "metadata": {
  "kernelspec": {
   "display_name": "Python 3",
   "language": "python",
   "name": "python3"
  },
  "language_info": {
   "codemirror_mode": {
    "name": "ipython",
    "version": 3
   },
   "file_extension": ".py",
   "mimetype": "text/x-python",
   "name": "python",
   "nbconvert_exporter": "python",
   "pygments_lexer": "ipython3",
   "version": "3.7.5"
  }
 },
 "nbformat": 4,
 "nbformat_minor": 2
}
