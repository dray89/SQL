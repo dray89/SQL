{
 "cells": [
  {
   "cell_type": "code",
   "execution_count": 1,
   "metadata": {},
   "outputs": [],
   "source": [
    "import pandas as pd\n",
    "import datetime\n",
    "import numpy as np\n",
    "import scipy.stats as stats\n",
    "from sqlalchemy import create_engine\n",
    "import matplotlib.pyplot as plt\n",
    "import os\n",
    "\n",
    "#!pip install ipython-sql\n",
    "%reload_ext sql"
   ]
  },
  {
   "cell_type": "code",
   "execution_count": 6,
   "metadata": {},
   "outputs": [],
   "source": [
    "date_cols = [\"Filing Date\", \"Issuance Date\", \"Expiration Date\", \"Job Start Date\"]\n",
    "permits = pd.read_csv(\"Historical_DOB_Permit_Issuance.csv\", low_memory=False, parse_dates=date_cols)\n",
    "POPULATION = pd.read_csv(r\"2010+Census+Population+By+Zipcode+(ZCTA).csv\", low_memory=False)"
   ]
  },
  {
   "cell_type": "code",
   "execution_count": 56,
   "metadata": {
    "scrolled": true
   },
   "outputs": [
    {
     "data": {
      "text/plain": [
       "Filing Date        datetime64[ns]\n",
       "Issuance Date      datetime64[ns]\n",
       "Expiration Date    datetime64[ns]\n",
       "Job Start Date     datetime64[ns]\n",
       "dtype: object"
      ]
     },
     "execution_count": 56,
     "metadata": {},
     "output_type": "execute_result"
    }
   ],
   "source": [
    "# Check to see dates imported as datetime64\n",
    "permits[date_cols].dtypes"
   ]
  },
  {
   "cell_type": "code",
   "execution_count": 8,
   "metadata": {},
   "outputs": [],
   "source": [
    "#Job Start Date Column is an object. Need to convert to datetime64\n",
    "permits['Job Start Date'] = pd.to_datetime(permits['Job Start Date'],errors=\"coerce\")"
   ]
  },
  {
   "cell_type": "code",
   "execution_count": 9,
   "metadata": {},
   "outputs": [
    {
     "data": {
      "text/plain": [
       "Filing Date        datetime64[ns]\n",
       "Issuance Date      datetime64[ns]\n",
       "Expiration Date    datetime64[ns]\n",
       "Job Start Date     datetime64[ns]\n",
       "dtype: object"
      ]
     },
     "execution_count": 9,
     "metadata": {},
     "output_type": "execute_result"
    }
   ],
   "source": [
    "#Check Columns again\n",
    "columns = [\"Filing Date\", \"Issuance Date\", \"Expiration Date\", \"Job Start Date\"]\n",
    "# columns need to reformat \"Filing Date\" \"Issuance Date\" \"Expiration Date\" \"Job Start Date\"\n",
    "\n",
    "permits[date_cols].dtypes"
   ]
  },
  {
   "cell_type": "code",
   "execution_count": 10,
   "metadata": {
    "scrolled": true
   },
   "outputs": [
    {
     "data": {
      "text/plain": [
       "BOROUGH                                   0\n",
       "BIN                                       0\n",
       "Number                                    4\n",
       "Street                                    4\n",
       "Job #                                     0\n",
       "Job doc. #                                0\n",
       "Job Type                                  0\n",
       "Self_Cert                            688837\n",
       "Block                                   284\n",
       "Lot                                     293\n",
       "Community Board                         614\n",
       "Postcode                                269\n",
       "Bldg Type                             24097\n",
       "Residential                          705895\n",
       "Special District 1                   981418\n",
       "Special District 2                  1047758\n",
       "Work Type                            193057\n",
       "Permit Status                          3660\n",
       "Filing Status                             0\n",
       "Permit Type                               0\n",
       "Permit Sequence #                         0\n",
       "Permit Subtype                       426168\n",
       "Oil Gas                             1031621\n",
       "Site Fill                             74285\n",
       "Filing Date                               0\n",
       "Issuance Date                             0\n",
       "Expiration Date                           2\n",
       "Job Start Date                           13\n",
       "Permittee's First Name                   34\n",
       "Permittee's Last Name                    34\n",
       "Permittee's Business Name              7922\n",
       "Permittee's Phone #                     103\n",
       "Permittee's License Type             107579\n",
       "Permittee's License #                 92310\n",
       "Act as Superintendent                368986\n",
       "Permittee's Other Title              936369\n",
       "HIC License                         1035311\n",
       "Site Safety Mgr's First Name        1044290\n",
       "Site Safety Mgr's Last Name         1044289\n",
       "Site Safety Mgr Business Name       1045317\n",
       "Superintendent First & Last Name     360171\n",
       "Superintendent Business Name         360273\n",
       "Owner's Business Type                 65059\n",
       "Non-Profit                           965921\n",
       "Owner's Business Name                284184\n",
       "Owner's First Name                    63443\n",
       "Owner's Last Name                     63333\n",
       "Owner's House #                       63191\n",
       "Owner's House Street Name             63278\n",
       "Owner’s House City                    63087\n",
       "Owner’s House State                   63121\n",
       "Owner’s House Zip Code                65824\n",
       "Owner's Phone #                       87323\n",
       "DOBRunDate                                0\n",
       "Latitude                               4781\n",
       "Longitude                              4781\n",
       "Council District                       4781\n",
       "Census Tract                           4781\n",
       "BBL                                   13014\n",
       "NTA                                    4637\n",
       "dtype: int64"
      ]
     },
     "execution_count": 10,
     "metadata": {},
     "output_type": "execute_result"
    }
   ],
   "source": [
    "#Check for NaN values in the column\n",
    "permits.isnull().sum()\n",
    "# We are missing only 4 number and 4 streets but we are missing the block, lot and postcode, bldg type ... etc \n",
    "# of a great deal more than 4 observations. If the information is needed, we can probably look this information up. \n",
    "# (No need for imputation)"
   ]
  },
  {
   "cell_type": "code",
   "execution_count": 11,
   "metadata": {},
   "outputs": [
    {
     "data": {
      "text/plain": [
       "0.21403342631666786"
      ]
     },
     "execution_count": 11,
     "metadata": {},
     "output_type": "execute_result"
    }
   ],
   "source": [
    "#We are missing 21.4% of the data\n",
    "permits.isnull().sum().sum()/np.product(permits.shape)"
   ]
  },
  {
   "cell_type": "code",
   "execution_count": 12,
   "metadata": {},
   "outputs": [
    {
     "name": "stdout",
     "output_type": "stream",
     "text": [
      "0.87248322147651\n",
      "          Bldg Type\n",
      "Postcode           \n",
      "11206.0         826\n",
      "11207.0         812\n",
      "11235.0         772\n",
      "11223.0         720\n",
      "11219.0         671\n",
      "...             ...\n",
      "10151.0           1\n",
      "10177.0           1\n",
      "10173.0           1\n",
      "10167.0           1\n",
      "10280.0           1\n",
      "\n",
      "[130 rows x 1 columns]\n"
     ]
    }
   ],
   "source": [
    "# How is the missing data by bldg type distributed across zipcodes. Is it missing at random??\n",
    "to_graph = permits[['Bldg Type']].isnull().groupby(permits['Postcode']).sum()\n",
    "total = len(to_graph)\n",
    "missing = to_graph[to_graph['Bldg Type']!=0].sort_values(by='Bldg Type', ascending=False)\n",
    "num_missing = len(missing)\n",
    "print(num_missing/total)\n",
    "print(missing)\n",
    "#Missing in 87% of the zipcodes"
   ]
  },
  {
   "cell_type": "code",
   "execution_count": 13,
   "metadata": {},
   "outputs": [
    {
     "data": {
      "image/png": "[encoded data removed]",
      "text/plain": [
       "<Figure size 432x288 with 1 Axes>"
      ]
     },
     "metadata": {
      "needs_background": "light"
     },
     "output_type": "display_data"
    }
   ],
   "source": [
    "#Most of the zipcodes have very few missing values and others have hundreds\n",
    "plt.hist(to_graph['Bldg Type'])\n",
    "plt.show()"
   ]
  },
  {
   "cell_type": "code",
   "execution_count": 14,
   "metadata": {},
   "outputs": [],
   "source": [
    "engine = create_engine('sqlite:///permitsdb.sql', echo=False)\n",
    "permits.to_sql('permits', con=engine, if_exists='replace')\n",
    "POPULATION.to_sql('POPULATION', con=engine, if_exists='replace')"
   ]
  },
  {
   "cell_type": "code",
   "execution_count": 15,
   "metadata": {},
   "outputs": [],
   "source": [
    "os.environ[\"DATABASE_URL\"]='sqlite:///permitsdb.sql'"
   ]
  },
  {
   "cell_type": "code",
   "execution_count": 16,
   "metadata": {},
   "outputs": [
    {
     "name": "stdout",
     "output_type": "stream",
     "text": [
      "Done.\n"
     ]
    },
    {
     "data": {
      "text/html": [
       "<table>\n",
       "    <tr>\n",
       "        <th>index</th>\n",
       "        <th>BOROUGH</th>\n",
       "        <th>BIN</th>\n",
       "        <th>Number</th>\n",
       "        <th>Street</th>\n",
       "        <th>Job #</th>\n",
       "        <th>Job doc. #</th>\n",
       "        <th>Job Type</th>\n",
       "        <th>Self_Cert</th>\n",
       "        <th>Block</th>\n",
       "        <th>Lot</th>\n",
       "        <th>Community Board</th>\n",
       "        <th>Postcode</th>\n",
       "        <th>Bldg Type</th>\n",
       "        <th>Residential</th>\n",
       "        <th>Special District 1</th>\n",
       "        <th>Special District 2</th>\n",
       "        <th>Work Type</th>\n",
       "        <th>Permit Status</th>\n",
       "        <th>Filing Status</th>\n",
       "        <th>Permit Type</th>\n",
       "        <th>Permit Sequence #</th>\n",
       "        <th>Permit Subtype</th>\n",
       "        <th>Oil Gas</th>\n",
       "        <th>Site Fill</th>\n",
       "        <th>Filing Date</th>\n",
       "        <th>Issuance Date</th>\n",
       "        <th>Expiration Date</th>\n",
       "        <th>Job Start Date</th>\n",
       "        <th>Permittee&#x27;s First Name</th>\n",
       "        <th>Permittee&#x27;s Last Name</th>\n",
       "        <th>Permittee&#x27;s Business Name</th>\n",
       "        <th>Permittee&#x27;s Phone #</th>\n",
       "        <th>Permittee&#x27;s License Type</th>\n",
       "        <th>Permittee&#x27;s License #</th>\n",
       "        <th>Act as Superintendent</th>\n",
       "        <th>Permittee&#x27;s Other Title</th>\n",
       "        <th>HIC License</th>\n",
       "        <th>Site Safety Mgr&#x27;s First Name</th>\n",
       "        <th>Site Safety Mgr&#x27;s Last Name</th>\n",
       "        <th>Site Safety Mgr Business Name</th>\n",
       "        <th>Superintendent First &amp; Last Name</th>\n",
       "        <th>Superintendent Business Name</th>\n",
       "        <th>Owner&#x27;s Business Type</th>\n",
       "        <th>Non-Profit</th>\n",
       "        <th>Owner&#x27;s Business Name</th>\n",
       "        <th>Owner&#x27;s First Name</th>\n",
       "        <th>Owner&#x27;s Last Name</th>\n",
       "        <th>Owner&#x27;s House #</th>\n",
       "        <th>Owner&#x27;s House Street Name</th>\n",
       "        <th>Owner’s House City</th>\n",
       "        <th>Owner’s House State</th>\n",
       "        <th>Owner’s House Zip Code</th>\n",
       "        <th>Owner&#x27;s Phone #</th>\n",
       "        <th>DOBRunDate</th>\n",
       "        <th>Latitude</th>\n",
       "        <th>Longitude</th>\n",
       "        <th>Council District</th>\n",
       "        <th>Census Tract</th>\n",
       "        <th>BBL</th>\n",
       "        <th>NTA</th>\n",
       "    </tr>\n",
       "    <tr>\n",
       "        <td>0</td>\n",
       "        <td>BRONX</td>\n",
       "        <td>2118801</td>\n",
       "        <td>2960</td>\n",
       "        <td>WEBSTER AVENUE</td>\n",
       "        <td>201088492</td>\n",
       "        <td>4</td>\n",
       "        <td>NB</td>\n",
       "        <td>None</td>\n",
       "        <td>3274.0</td>\n",
       "        <td>4</td>\n",
       "        <td>207</td>\n",
       "        <td>10458.0</td>\n",
       "        <td>2.0</td>\n",
       "        <td>None</td>\n",
       "        <td>None</td>\n",
       "        <td>None</td>\n",
       "        <td>PL</td>\n",
       "        <td>ISSUED</td>\n",
       "        <td>INITIAL</td>\n",
       "        <td>PL</td>\n",
       "        <td>1</td>\n",
       "        <td>None</td>\n",
       "        <td>None</td>\n",
       "        <td>None</td>\n",
       "        <td>2010-11-05 00:00:00.000000</td>\n",
       "        <td>2010-11-05 00:00:00.000000</td>\n",
       "        <td>2011-11-05 00:00:00.000000</td>\n",
       "        <td>2010-11-05 00:00:00.000000</td>\n",
       "        <td>LAWRENCE</td>\n",
       "        <td>LEVINE</td>\n",
       "        <td>PAR PLUMBING CO., INC</td>\n",
       "        <td>2129261088</td>\n",
       "        <td>MASTER PLUMBER</td>\n",
       "        <td>161</td>\n",
       "        <td>None</td>\n",
       "        <td>None</td>\n",
       "        <td>None</td>\n",
       "        <td>None</td>\n",
       "        <td>None</td>\n",
       "        <td>None</td>\n",
       "        <td>None</td>\n",
       "        <td>None</td>\n",
       "        <td>None</td>\n",
       "        <td>None</td>\n",
       "        <td>None</td>\n",
       "        <td>None</td>\n",
       "        <td>None</td>\n",
       "        <td>None</td>\n",
       "        <td>None</td>\n",
       "        <td>None</td>\n",
       "        <td>None</td>\n",
       "        <td>None</td>\n",
       "        <td>None</td>\n",
       "        <td>2016-01-03T00:00:00</td>\n",
       "        <td>40.86749</td>\n",
       "        <td>-73.883225</td>\n",
       "        <td>11.0</td>\n",
       "        <td>425.0</td>\n",
       "        <td>2032740001.0</td>\n",
       "        <td>Norwood                                                                    </td>\n",
       "    </tr>\n",
       "    <tr>\n",
       "        <td>1</td>\n",
       "        <td>BRONX</td>\n",
       "        <td>2096812</td>\n",
       "        <td>100</td>\n",
       "        <td>DEKRUIF PLACE</td>\n",
       "        <td>200716298</td>\n",
       "        <td>2</td>\n",
       "        <td>A2</td>\n",
       "        <td>None</td>\n",
       "        <td>5141.0</td>\n",
       "        <td>120</td>\n",
       "        <td>209</td>\n",
       "        <td>10475.0</td>\n",
       "        <td>2.0</td>\n",
       "        <td>None</td>\n",
       "        <td>None</td>\n",
       "        <td>None</td>\n",
       "        <td>EQ</td>\n",
       "        <td>ISSUED</td>\n",
       "        <td>RENEWAL</td>\n",
       "        <td>EQ</td>\n",
       "        <td>12</td>\n",
       "        <td>FN</td>\n",
       "        <td>None</td>\n",
       "        <td>NONE</td>\n",
       "        <td>2012-01-30 00:00:00.000000</td>\n",
       "        <td>2012-01-30 00:00:00.000000</td>\n",
       "        <td>2013-01-29 00:00:00.000000</td>\n",
       "        <td>2002-08-08 00:00:00.000000</td>\n",
       "        <td>ANTHONY</td>\n",
       "        <td>RASULO</td>\n",
       "        <td>RIVERBAY CORP</td>\n",
       "        <td>7183203300</td>\n",
       "        <td>GENERAL CONTRACTOR</td>\n",
       "        <td>1962</td>\n",
       "        <td>None</td>\n",
       "        <td>None</td>\n",
       "        <td>None</td>\n",
       "        <td>None</td>\n",
       "        <td>None</td>\n",
       "        <td>None</td>\n",
       "        <td>None</td>\n",
       "        <td>None</td>\n",
       "        <td>None</td>\n",
       "        <td>None</td>\n",
       "        <td>None</td>\n",
       "        <td>None</td>\n",
       "        <td>None</td>\n",
       "        <td>None</td>\n",
       "        <td>None</td>\n",
       "        <td>None</td>\n",
       "        <td>None</td>\n",
       "        <td>None</td>\n",
       "        <td>None</td>\n",
       "        <td>2016-01-03T00:00:00</td>\n",
       "        <td>40.875769</td>\n",
       "        <td>-73.828899</td>\n",
       "        <td>12.0</td>\n",
       "        <td>46201.0</td>\n",
       "        <td>2051410120.0</td>\n",
       "        <td>Co-op City                                                                 </td>\n",
       "    </tr>\n",
       "    <tr>\n",
       "        <td>2</td>\n",
       "        <td>BRONX</td>\n",
       "        <td>2008604</td>\n",
       "        <td>1898</td>\n",
       "        <td>HARRISON AVENUE</td>\n",
       "        <td>200974650</td>\n",
       "        <td>2</td>\n",
       "        <td>A2</td>\n",
       "        <td>None</td>\n",
       "        <td>2869.0</td>\n",
       "        <td>87</td>\n",
       "        <td>205</td>\n",
       "        <td>10453.0</td>\n",
       "        <td>2.0</td>\n",
       "        <td>None</td>\n",
       "        <td>None</td>\n",
       "        <td>None</td>\n",
       "        <td>PL</td>\n",
       "        <td>ISSUED</td>\n",
       "        <td>RENEWAL</td>\n",
       "        <td>PL</td>\n",
       "        <td>3</td>\n",
       "        <td>None</td>\n",
       "        <td>None</td>\n",
       "        <td>NONE</td>\n",
       "        <td>2008-02-04 00:00:00.000000</td>\n",
       "        <td>2008-02-04 00:00:00.000000</td>\n",
       "        <td>2009-02-03 00:00:00.000000</td>\n",
       "        <td>2005-08-29 00:00:00.000000</td>\n",
       "        <td>OSCAR</td>\n",
       "        <td>JACKSON</td>\n",
       "        <td>PERFECT PLUMBING &amp; HETING CORP</td>\n",
       "        <td>7185157055</td>\n",
       "        <td>MASTER PLUMBER</td>\n",
       "        <td>594</td>\n",
       "        <td>None</td>\n",
       "        <td>None</td>\n",
       "        <td>None</td>\n",
       "        <td>None</td>\n",
       "        <td>None</td>\n",
       "        <td>None</td>\n",
       "        <td>None</td>\n",
       "        <td>None</td>\n",
       "        <td>None</td>\n",
       "        <td>None</td>\n",
       "        <td>None</td>\n",
       "        <td>None</td>\n",
       "        <td>None</td>\n",
       "        <td>None</td>\n",
       "        <td>None</td>\n",
       "        <td>None</td>\n",
       "        <td>None</td>\n",
       "        <td>None</td>\n",
       "        <td>None</td>\n",
       "        <td>2016-01-03T00:00:00</td>\n",
       "        <td>40.852603</td>\n",
       "        <td>-73.911461</td>\n",
       "        <td>14.0</td>\n",
       "        <td>243.0</td>\n",
       "        <td>2028690087.0</td>\n",
       "        <td>University Heights-Morris Heights                                          </td>\n",
       "    </tr>\n",
       "    <tr>\n",
       "        <td>3</td>\n",
       "        <td>BRONX</td>\n",
       "        <td>2007652</td>\n",
       "        <td>1998</td>\n",
       "        <td>MORRIS AVENUE</td>\n",
       "        <td>200278118</td>\n",
       "        <td>2</td>\n",
       "        <td>A1</td>\n",
       "        <td>None</td>\n",
       "        <td>2807.0</td>\n",
       "        <td>15</td>\n",
       "        <td>205</td>\n",
       "        <td>10453.0</td>\n",
       "        <td>1.0</td>\n",
       "        <td>None</td>\n",
       "        <td>None</td>\n",
       "        <td>None</td>\n",
       "        <td>PL</td>\n",
       "        <td>ISSUED</td>\n",
       "        <td>INITIAL</td>\n",
       "        <td>PL</td>\n",
       "        <td>1</td>\n",
       "        <td>None</td>\n",
       "        <td>None</td>\n",
       "        <td>NONE</td>\n",
       "        <td>1998-08-31 00:00:00.000000</td>\n",
       "        <td>1998-08-31 00:00:00.000000</td>\n",
       "        <td>1999-08-31 00:00:00.000000</td>\n",
       "        <td>1998-08-31 00:00:00.000000</td>\n",
       "        <td>GERI</td>\n",
       "        <td>KAUUMBA</td>\n",
       "        <td>GOWIE PLUMBING</td>\n",
       "        <td>7188821281</td>\n",
       "        <td>MASTER PLUMBER</td>\n",
       "        <td>1137</td>\n",
       "        <td>Y</td>\n",
       "        <td>None</td>\n",
       "        <td>None</td>\n",
       "        <td>None</td>\n",
       "        <td>None</td>\n",
       "        <td>None</td>\n",
       "        <td>GOWIE PLUMBING</td>\n",
       "        <td>GOWIE PLUMBING</td>\n",
       "        <td>None</td>\n",
       "        <td>None</td>\n",
       "        <td>None</td>\n",
       "        <td>None</td>\n",
       "        <td>None</td>\n",
       "        <td>None</td>\n",
       "        <td>None</td>\n",
       "        <td>None</td>\n",
       "        <td>None</td>\n",
       "        <td>None</td>\n",
       "        <td>None</td>\n",
       "        <td>2016-01-03T00:00:00</td>\n",
       "        <td>40.851661</td>\n",
       "        <td>-73.906937</td>\n",
       "        <td>14.0</td>\n",
       "        <td>241.0</td>\n",
       "        <td>2028070015.0</td>\n",
       "        <td>Mount Hope                                                                 </td>\n",
       "    </tr>\n",
       "    <tr>\n",
       "        <td>4</td>\n",
       "        <td>BRONX</td>\n",
       "        <td>2084155</td>\n",
       "        <td>565</td>\n",
       "        <td>WEST  235 STREET</td>\n",
       "        <td>201119173</td>\n",
       "        <td>2</td>\n",
       "        <td>A2</td>\n",
       "        <td>Y</td>\n",
       "        <td>5794.0</td>\n",
       "        <td>484</td>\n",
       "        <td>208</td>\n",
       "        <td>10463.0</td>\n",
       "        <td>2.0</td>\n",
       "        <td>None</td>\n",
       "        <td>None</td>\n",
       "        <td>None</td>\n",
       "        <td>MH</td>\n",
       "        <td>ISSUED</td>\n",
       "        <td>INITIAL</td>\n",
       "        <td>EW</td>\n",
       "        <td>1</td>\n",
       "        <td>MH</td>\n",
       "        <td>None</td>\n",
       "        <td>NONE</td>\n",
       "        <td>2007-04-30 00:00:00.000000</td>\n",
       "        <td>2007-04-30 00:00:00.000000</td>\n",
       "        <td>2008-01-08 00:00:00.000000</td>\n",
       "        <td>2007-04-30 00:00:00.000000</td>\n",
       "        <td>GARY</td>\n",
       "        <td>ZYSMAN</td>\n",
       "        <td>THE DU-RITE INC</td>\n",
       "        <td>2013877000</td>\n",
       "        <td>GENERAL CONTRACTOR</td>\n",
       "        <td>9872</td>\n",
       "        <td>Y</td>\n",
       "        <td>None</td>\n",
       "        <td>None</td>\n",
       "        <td>None</td>\n",
       "        <td>None</td>\n",
       "        <td>None</td>\n",
       "        <td>THE DU-RITE INC</td>\n",
       "        <td>THE DU-RITE INC</td>\n",
       "        <td>None</td>\n",
       "        <td>None</td>\n",
       "        <td>None</td>\n",
       "        <td>None</td>\n",
       "        <td>None</td>\n",
       "        <td>None</td>\n",
       "        <td>None</td>\n",
       "        <td>None</td>\n",
       "        <td>None</td>\n",
       "        <td>None</td>\n",
       "        <td>None</td>\n",
       "        <td>2016-01-03T00:00:00</td>\n",
       "        <td>40.88572</td>\n",
       "        <td>-73.91027</td>\n",
       "        <td>11.0</td>\n",
       "        <td>297.0</td>\n",
       "        <td>2057940484.0</td>\n",
       "        <td>Spuyten Duyvil-Kingsbridge                                                 </td>\n",
       "    </tr>\n",
       "</table>"
      ],
      "text/plain": [
       "[(0, 'BRONX', 2118801, '2960', 'WEBSTER AVENUE', 201088492, 4, 'NB', None, 3274.0, '4', '207', 10458.0, 2.0, None, None, None, 'PL', 'ISSUED', 'INITIAL', 'PL', 1, None, None, None, '2010-11-05 00:00:00.000000', '2010-11-05 00:00:00.000000', '2011-11-05 00:00:00.000000', '2010-11-05 00:00:00.000000', 'LAWRENCE', 'LEVINE', 'PAR PLUMBING CO., INC', '2129261088', 'MASTER PLUMBER', '161', None, None, None, None, None, None, None, None, None, None, None, None, None, None, None, None, None, None, None, '2016-01-03T00:00:00', 40.86749, -73.883225, 11.0, 425.0, 2032740001.0, 'Norwood                                                                    '),\n",
       " (1, 'BRONX', 2096812, '100', 'DEKRUIF PLACE', 200716298, 2, 'A2', None, 5141.0, '120', '209', 10475.0, 2.0, None, None, None, 'EQ', 'ISSUED', 'RENEWAL', 'EQ', 12, 'FN', None, 'NONE', '2012-01-30 00:00:00.000000', '2012-01-30 00:00:00.000000', '2013-01-29 00:00:00.000000', '2002-08-08 00:00:00.000000', 'ANTHONY', 'RASULO', 'RIVERBAY CORP', '7183203300', 'GENERAL CONTRACTOR', '1962', None, None, None, None, None, None, None, None, None, None, None, None, None, None, None, None, None, None, None, '2016-01-03T00:00:00', 40.875769, -73.828899, 12.0, 46201.0, 2051410120.0, 'Co-op City                                                                 '),\n",
       " (2, 'BRONX', 2008604, '1898', 'HARRISON AVENUE', 200974650, 2, 'A2', None, 2869.0, '87', '205', 10453.0, 2.0, None, None, None, 'PL', 'ISSUED', 'RENEWAL', 'PL', 3, None, None, 'NONE', '2008-02-04 00:00:00.000000', '2008-02-04 00:00:00.000000', '2009-02-03 00:00:00.000000', '2005-08-29 00:00:00.000000', 'OSCAR', 'JACKSON', 'PERFECT PLUMBING & HETING CORP', '7185157055', 'MASTER PLUMBER', '594', None, None, None, None, None, None, None, None, None, None, None, None, None, None, None, None, None, None, None, '2016-01-03T00:00:00', 40.852603, -73.911461, 14.0, 243.0, 2028690087.0, 'University Heights-Morris Heights                                          '),\n",
       " (3, 'BRONX', 2007652, '1998', 'MORRIS AVENUE', 200278118, 2, 'A1', None, 2807.0, '15', '205', 10453.0, 1.0, None, None, None, 'PL', 'ISSUED', 'INITIAL', 'PL', 1, None, None, 'NONE', '1998-08-31 00:00:00.000000', '1998-08-31 00:00:00.000000', '1999-08-31 00:00:00.000000', '1998-08-31 00:00:00.000000', 'GERI', 'KAUUMBA', 'GOWIE PLUMBING', '7188821281', 'MASTER PLUMBER', '1137', 'Y', None, None, None, None, None, 'GOWIE PLUMBING', 'GOWIE PLUMBING', None, None, None, None, None, None, None, None, None, None, None, '2016-01-03T00:00:00', 40.851661, -73.906937, 14.0, 241.0, 2028070015.0, 'Mount Hope                                                                 '),\n",
       " (4, 'BRONX', 2084155, '565', 'WEST  235 STREET', 201119173, 2, 'A2', 'Y', 5794.0, '484', '208', 10463.0, 2.0, None, None, None, 'MH', 'ISSUED', 'INITIAL', 'EW', 1, 'MH', None, 'NONE', '2007-04-30 00:00:00.000000', '2007-04-30 00:00:00.000000', '2008-01-08 00:00:00.000000', '2007-04-30 00:00:00.000000', 'GARY', 'ZYSMAN', 'THE DU-RITE INC', '2013877000', 'GENERAL CONTRACTOR', '9872', 'Y', None, None, None, None, None, 'THE DU-RITE INC', 'THE DU-RITE INC', None, None, None, None, None, None, None, None, None, None, None, '2016-01-03T00:00:00', 40.88572, -73.91027, 11.0, 297.0, 2057940484.0, 'Spuyten Duyvil-Kingsbridge                                                 ')]"
      ]
     },
     "execution_count": 16,
     "metadata": {},
     "output_type": "execute_result"
    }
   ],
   "source": [
    "%%sql\n",
    "\n",
    "SELECT * FROM permits LIMIT 5"
   ]
  },
  {
   "cell_type": "code",
   "execution_count": 17,
   "metadata": {},
   "outputs": [
    {
     "name": "stdout",
     "output_type": "stream",
     "text": [
      " * sqlite:///permitsdb.sql\n",
      "Done.\n"
     ]
    },
    {
     "data": {
      "text/html": [
       "<table>\n",
       "    <tr>\n",
       "        <th>index</th>\n",
       "        <th>Zip Code ZCTA</th>\n",
       "        <th>2010 Census Population</th>\n",
       "    </tr>\n",
       "    <tr>\n",
       "        <td>0</td>\n",
       "        <td>1001</td>\n",
       "        <td>16769</td>\n",
       "    </tr>\n",
       "    <tr>\n",
       "        <td>1</td>\n",
       "        <td>1002</td>\n",
       "        <td>29049</td>\n",
       "    </tr>\n",
       "    <tr>\n",
       "        <td>2</td>\n",
       "        <td>1003</td>\n",
       "        <td>10372</td>\n",
       "    </tr>\n",
       "    <tr>\n",
       "        <td>3</td>\n",
       "        <td>1005</td>\n",
       "        <td>5079</td>\n",
       "    </tr>\n",
       "    <tr>\n",
       "        <td>4</td>\n",
       "        <td>1007</td>\n",
       "        <td>14649</td>\n",
       "    </tr>\n",
       "</table>"
      ],
      "text/plain": [
       "[(0, 1001, 16769),\n",
       " (1, 1002, 29049),\n",
       " (2, 1003, 10372),\n",
       " (3, 1005, 5079),\n",
       " (4, 1007, 14649)]"
      ]
     },
     "execution_count": 17,
     "metadata": {},
     "output_type": "execute_result"
    }
   ],
   "source": [
    "%%sql\n",
    "\n",
    "SELECT * FROM POPULATION LIMIT 5;"
   ]
  },
  {
   "cell_type": "code",
   "execution_count": 18,
   "metadata": {},
   "outputs": [
    {
     "name": "stdout",
     "output_type": "stream",
     "text": [
      " * sqlite:///permitsdb.sql\n",
      "Done.\n"
     ]
    },
    {
     "data": {
      "text/html": [
       "<table>\n",
       "    <tr>\n",
       "        <th>COUNT(&quot;Filing Status&quot;)</th>\n",
       "    </tr>\n",
       "    <tr>\n",
       "        <td>271030</td>\n",
       "    </tr>\n",
       "</table>"
      ],
      "text/plain": [
       "[(271030,)]"
      ]
     },
     "execution_count": 18,
     "metadata": {},
     "output_type": "execute_result"
    }
   ],
   "source": [
    "%%sql\n",
    "SELECT COUNT(\"Filing Status\") FROM permits\n",
    "WHERE \"Filing Status\" = \"RENEWAL\"\n",
    "LIMIT 5"
   ]
  },
  {
   "cell_type": "code",
   "execution_count": 24,
   "metadata": {},
   "outputs": [
    {
     "name": "stdout",
     "output_type": "stream",
     "text": [
      " * sqlite:///permitsdb.sql\n",
      "Done.\n"
     ]
    },
    {
     "data": {
      "text/html": [
       "<table>\n",
       "    <tr>\n",
       "        <th>BOROUGH</th>\n",
       "        <th>COUNT</th>\n",
       "    </tr>\n",
       "    <tr>\n",
       "        <td>BROOKLYN</td>\n",
       "        <td>367617</td>\n",
       "    </tr>\n",
       "    <tr>\n",
       "        <td>MANHATTAN</td>\n",
       "        <td>217507</td>\n",
       "    </tr>\n",
       "    <tr>\n",
       "        <td>BRONX</td>\n",
       "        <td>147328</td>\n",
       "    </tr>\n",
       "</table>"
      ],
      "text/plain": [
       "[('BROOKLYN', 367617), ('MANHATTAN', 217507), ('BRONX', 147328)]"
      ]
     },
     "execution_count": 24,
     "metadata": {},
     "output_type": "execute_result"
    }
   ],
   "source": [
    "%%sql \n",
    "SELECT BOROUGH, COUNT() AS COUNT \n",
    "FROM permits \n",
    "WHERE (SELECT (\"Expiration Date\" - \"Issuance Date\") AS DATE_DIFF)>=1\n",
    "GROUP BY BOROUGH\n",
    "ORDER BY COUNT DESC\n",
    "LIMIT 5;"
   ]
  },
  {
   "cell_type": "code",
   "execution_count": 23,
   "metadata": {},
   "outputs": [
    {
     "name": "stdout",
     "output_type": "stream",
     "text": [
      " * sqlite:///permitsdb.sql\n",
      "Done.\n"
     ]
    },
    {
     "data": {
      "text/html": [
       "<table>\n",
       "    <tr>\n",
       "        <th>BOROUGH</th>\n",
       "        <th>MAX(COUNT)</th>\n",
       "    </tr>\n",
       "    <tr>\n",
       "        <td>BROOKLYN</td>\n",
       "        <td>367617</td>\n",
       "    </tr>\n",
       "</table>"
      ],
      "text/plain": [
       "[('BROOKLYN', 367617)]"
      ]
     },
     "execution_count": 23,
     "metadata": {},
     "output_type": "execute_result"
    }
   ],
   "source": [
    "%%sql\n",
    "SELECT BOROUGH, MAX(COUNT)\n",
    "FROM (SELECT BOROUGH,COUNT(*) AS COUNT \n",
    "FROM permits\n",
    "WHERE (SELECT (\"Expiration Date\" - \"Issuance Date\") AS DATE_DIFF)>=1\n",
    "GROUP BY BOROUGH)\n",
    "LIMIT 5;"
   ]
  },
  {
   "cell_type": "code",
   "execution_count": 44,
   "metadata": {},
   "outputs": [
    {
     "name": "stdout",
     "output_type": "stream",
     "text": [
      " * sqlite:///permitsdb.sql\n",
      "Done.\n"
     ]
    },
    {
     "data": {
      "text/html": [
       "<table>\n",
       "    <tr>\n",
       "        <th>highest_permit_issuance/permit_total</th>\n",
       "    </tr>\n",
       "    <tr>\n",
       "        <td>0.5018991005553948</td>\n",
       "    </tr>\n",
       "</table>"
      ],
      "text/plain": [
       "[(0.5018991005553948,)]"
      ]
     },
     "execution_count": 44,
     "metadata": {},
     "output_type": "execute_result"
    }
   ],
   "source": [
    "%%sql\n",
    "SELECT highest_permit_issuance/permit_total\n",
    "FROM \n",
    "    (SELECT BOROUGH, CAST(MAX(permit_count) AS FLOAT) AS highest_permit_issuance, CAST(SUM(permit_count) AS FLOAT) AS permit_total\n",
    "        FROM (SELECT BOROUGH, COUNT() AS permit_count\n",
    "                FROM permits\n",
    "                WHERE (SELECT (\"Expiration Date\" - \"Issuance Date\") AS DATE_DIFF)>=1\n",
    "                GROUP BY BOROUGH)\n",
    "                \n",
    "    )\n",
    "LIMIT 5;"
   ]
  },
  {
   "cell_type": "code",
   "execution_count": 45,
   "metadata": {},
   "outputs": [
    {
     "name": "stdout",
     "output_type": "stream",
     "text": [
      " * sqlite:///permitsdb.sql\n",
      "Done.\n"
     ]
    },
    {
     "data": {
      "text/html": [
       "<table>\n",
       "    <tr>\n",
       "        <th>COUNT()</th>\n",
       "    </tr>\n",
       "    <tr>\n",
       "        <td>78144</td>\n",
       "    </tr>\n",
       "</table>"
      ],
      "text/plain": [
       "[(78144,)]"
      ]
     },
     "execution_count": 45,
     "metadata": {},
     "output_type": "execute_result"
    }
   ],
   "source": [
    "%%sql \n",
    "SELECT COUNT()\n",
    "FROM permits \n",
    "WHERE \"Owner's Business Type\"=\"CORPORATION\" AND \"Filing Status\" = \"RENEWAL\"\n",
    "LIMIT 5;"
   ]
  },
  {
   "cell_type": "code",
   "execution_count": 35,
   "metadata": {},
   "outputs": [
    {
     "name": "stdout",
     "output_type": "stream",
     "text": [
      " * sqlite:///permitsdb.sql\n",
      "Done.\n"
     ]
    },
    {
     "data": {
      "text/html": [
       "<table>\n",
       "    <tr>\n",
       "        <th>CORPORATION TO INDIVIDUAL RATIO</th>\n",
       "    </tr>\n",
       "    <tr>\n",
       "        <td>0.9884888810180383</td>\n",
       "    </tr>\n",
       "</table>"
      ],
      "text/plain": [
       "[(0.9884888810180383,)]"
      ]
     },
     "execution_count": 35,
     "metadata": {},
     "output_type": "execute_result"
    }
   ],
   "source": [
    "%%sql\n",
    "WITH CORP_COUNT AS\n",
    "    (SELECT \"Owner's Business Type\", COUNT(*) AS COUNT\n",
    "        FROM permits\n",
    "        WHERE \"Filing Status\" = \"RENEWAL\" AND \"Owner's Business Type\" =\"CORPORATION\"\n",
    "        GROUP BY \"Owner's Business Type\"),\n",
    "    INDIVIDUAL_COUNT AS\n",
    "    (SELECT \"Owner's Business Type\", COUNT(*) AS COUNT\n",
    "    FROM permits\n",
    "    WHERE  \"Filing Status\" = \"RENEWAL\" AND \"Owner's Business Type\" =\"INDIVIDUAL\"\n",
    "    GROUP BY \"Owner's Business Type\")\n",
    "SELECT CAST(CORP_COUNT.COUNT AS FLOAT)/INDIVIDUAL_COUNT.COUNT AS \"CORPORATION TO INDIVIDUAL RATIO\"\n",
    "FROM CORP_COUNT, INDIVIDUAL_COUNT\n",
    "LIMIT 5;"
   ]
  },
  {
   "cell_type": "code",
   "execution_count": 60,
   "metadata": {},
   "outputs": [
    {
     "name": "stdout",
     "output_type": "stream",
     "text": [
      " * sqlite:///permitsdb.sql\n",
      "Done.\n"
     ]
    },
    {
     "data": {
      "text/html": [
       "<table>\n",
       "    <tr>\n",
       "        <th>Postcode</th>\n",
       "        <th>NUM_PERMITS</th>\n",
       "    </tr>\n",
       "    <tr>\n",
       "        <td>11201.0</td>\n",
       "        <td>2179</td>\n",
       "    </tr>\n",
       "    <tr>\n",
       "        <td>11215.0</td>\n",
       "        <td>1552</td>\n",
       "    </tr>\n",
       "    <tr>\n",
       "        <td>11211.0</td>\n",
       "        <td>1288</td>\n",
       "    </tr>\n",
       "    <tr>\n",
       "        <td>11238.0</td>\n",
       "        <td>1211</td>\n",
       "    </tr>\n",
       "    <tr>\n",
       "        <td>11220.0</td>\n",
       "        <td>1187</td>\n",
       "    </tr>\n",
       "</table>"
      ],
      "text/plain": [
       "[(11201.0, 2179),\n",
       " (11215.0, 1552),\n",
       " (11211.0, 1288),\n",
       " (11238.0, 1211),\n",
       " (11220.0, 1187)]"
      ]
     },
     "execution_count": 60,
     "metadata": {},
     "output_type": "execute_result"
    }
   ],
   "source": [
    "%%sql \n",
    "SELECT Postcode, COUNT(*) AS NUM_PERMITS\n",
    "FROM permits\n",
    "WHERE \"Filing Date\" BETWEEN '2010-01-01 00:00:00.000' AND '2010-12-31 23:59:59.998'\n",
    "GROUP BY Postcode\n",
    "ORDER BY COUNT(*) DESC\n",
    "LIMIT 5;"
   ]
  },
  {
   "cell_type": "code",
   "execution_count": 76,
   "metadata": {},
   "outputs": [
    {
     "name": "stdout",
     "output_type": "stream",
     "text": [
      " * sqlite:///permitsdb.sql\n",
      "Done.\n"
     ]
    },
    {
     "data": {
      "text/html": [
       "<table>\n",
       "    <tr>\n",
       "        <th>Postcode</th>\n",
       "        <th>NUM_PERMITS</th>\n",
       "        <th>CENSUS_POP</th>\n",
       "        <th>RATIO</th>\n",
       "    </tr>\n",
       "    <tr>\n",
       "        <td>11201.0</td>\n",
       "        <td>2179</td>\n",
       "        <td>51128</td>\n",
       "        <td>0.04261852605226099</td>\n",
       "    </tr>\n",
       "    <tr>\n",
       "        <td>11215.0</td>\n",
       "        <td>1552</td>\n",
       "        <td>63488</td>\n",
       "        <td>0.02444556451612903</td>\n",
       "    </tr>\n",
       "    <tr>\n",
       "        <td>11211.0</td>\n",
       "        <td>1288</td>\n",
       "        <td>90117</td>\n",
       "        <td>0.014292530821043755</td>\n",
       "    </tr>\n",
       "    <tr>\n",
       "        <td>11238.0</td>\n",
       "        <td>1211</td>\n",
       "        <td>49262</td>\n",
       "        <td>0.02458284275912468</td>\n",
       "    </tr>\n",
       "    <tr>\n",
       "        <td>11220.0</td>\n",
       "        <td>1187</td>\n",
       "        <td>99598</td>\n",
       "        <td>0.011917909998192734</td>\n",
       "    </tr>\n",
       "</table>"
      ],
      "text/plain": [
       "[(11201.0, 2179, 51128, 0.04261852605226099),\n",
       " (11215.0, 1552, 63488, 0.02444556451612903),\n",
       " (11211.0, 1288, 90117, 0.014292530821043755),\n",
       " (11238.0, 1211, 49262, 0.02458284275912468),\n",
       " (11220.0, 1187, 99598, 0.011917909998192734)]"
      ]
     },
     "execution_count": 76,
     "metadata": {},
     "output_type": "execute_result"
    }
   ],
   "source": [
    "%%sql\n",
    "SELECT Postcode, COUNT(\"Job #\") AS NUM_PERMITS, POPULATION.\"2010 Census Population\" As CENSUS_POP, CAST(COUNT(\"Job #\") AS FLOAT)/POPULATION.\"2010 Census Population\" AS RATIO\n",
    "FROM permits\n",
    "LEFT JOIN POPULATION\n",
    "ON POPULATION.\"Zip Code ZCTA\" = permits.Postcode\n",
    "WHERE POPULATION.\"2010 Census Population\" >=1000 AND permits.\"Filing Date\" BETWEEN '2010-01-01 00:00:00.000' AND '2010-12-31 23:59:59.998'\n",
    "GROUP BY Postcode\n",
    "ORDER BY COUNT(*) DESC\n",
    "LIMIT 5"
   ]
  },
  {
   "cell_type": "code",
   "execution_count": 77,
   "metadata": {},
   "outputs": [
    {
     "name": "stdout",
     "output_type": "stream",
     "text": [
      "   Postcode  NUM_PERMITS  CENSUS_POP     RATIO\n",
      "0   11201.0         2179       51128  0.042619\n",
      "1   11215.0         1552       63488  0.024446\n",
      "2   11211.0         1288       90117  0.014293\n",
      "3   11238.0         1211       49262  0.024583\n",
      "4   11220.0         1187       99598  0.011918\n"
     ]
    }
   ],
   "source": [
    "sql_query = '''SELECT Postcode, COUNT(\"Job #\") AS NUM_PERMITS, POPULATION.\"2010 Census Population\" As CENSUS_POP, CAST(COUNT(\"Job #\") AS FLOAT)/POPULATION.\"2010 Census Population\" AS RATIO\n",
    "FROM permits\n",
    "LEFT JOIN POPULATION\n",
    "ON POPULATION.\"Zip Code ZCTA\" = permits.Postcode\n",
    "WHERE POPULATION.\"2010 Census Population\" >=1000 AND permits.\"Filing Date\" BETWEEN '2010-01-01 00:00:00.000' AND '2010-12-31 23:59:59.998'\n",
    "GROUP BY Postcode\n",
    "ORDER BY COUNT(*) DESC\n",
    "LIMIT 5'''\n",
    "joined = pd.read_sql_query(sql_query, con='sqlite:///permitsdb.sql')\n",
    "print(joined.head())"
   ]
  },
  {
   "cell_type": "code",
   "execution_count": 53,
   "metadata": {},
   "outputs": [],
   "source": [
    "joined['zscore'] = stats.zscore(joined['RATIO'])"
   ]
  },
  {
   "cell_type": "code",
   "execution_count": 54,
   "metadata": {},
   "outputs": [
    {
     "data": {
      "text/plain": [
       "3"
      ]
     },
     "execution_count": 54,
     "metadata": {},
     "output_type": "execute_result"
    }
   ],
   "source": [
    "len(joined[joined['zscore']>=2])"
   ]
  },
  {
   "cell_type": "code",
   "execution_count": 55,
   "metadata": {},
   "outputs": [],
   "source": [
    "pd.set_option('display.max_columns', None)\n",
    "pd.set_option('display.max_rows', None)"
   ]
  },
  {
   "cell_type": "code",
   "execution_count": 56,
   "metadata": {
    "scrolled": true
   },
   "outputs": [
    {
     "name": "stdout",
     "output_type": "stream",
     "text": [
      " * sqlite:///permitsdb.sql\n",
      "Done.\n"
     ]
    },
    {
     "data": {
      "text/html": [
       "<table>\n",
       "    <tr>\n",
       "        <th>strftime(&quot;%Y&quot;, &quot;Issuance Date&quot;)</th>\n",
       "        <th>COUNT(*)</th>\n",
       "    </tr>\n",
       "    <tr>\n",
       "        <td>1989</td>\n",
       "        <td>177</td>\n",
       "    </tr>\n",
       "    <tr>\n",
       "        <td>1990</td>\n",
       "        <td>7499</td>\n",
       "    </tr>\n",
       "    <tr>\n",
       "        <td>1991</td>\n",
       "        <td>20038</td>\n",
       "    </tr>\n",
       "    <tr>\n",
       "        <td>1992</td>\n",
       "        <td>23367</td>\n",
       "    </tr>\n",
       "    <tr>\n",
       "        <td>1993</td>\n",
       "        <td>25595</td>\n",
       "    </tr>\n",
       "</table>"
      ],
      "text/plain": [
       "[('1989', 177),\n",
       " ('1990', 7499),\n",
       " ('1991', 20038),\n",
       " ('1992', 23367),\n",
       " ('1993', 25595)]"
      ]
     },
     "execution_count": 56,
     "metadata": {},
     "output_type": "execute_result"
    }
   ],
   "source": [
    "%%sql\n",
    "\n",
    "SELECT strftime(\"%Y\", \"Issuance Date\"), COUNT(*) \n",
    "FROM permits\n",
    "GROUP BY strftime(\"%Y\", \"Issuance Date\")\n",
    "LIMIT 5;"
   ]
  },
  {
   "cell_type": "code",
   "execution_count": 47,
   "metadata": {
    "scrolled": true
   },
   "outputs": [
    {
     "name": "stdout",
     "output_type": "stream",
     "text": [
      " * sqlite:///permitsdb.sql\n",
      "Done.\n"
     ]
    },
    {
     "data": {
      "text/html": [
       "<table>\n",
       "    <tr>\n",
       "        <th>Job Start Date</th>\n",
       "    </tr>\n",
       "    <tr>\n",
       "        <td>2010-11-05T00:00:00</td>\n",
       "    </tr>\n",
       "    <tr>\n",
       "        <td>2002-08-08T00:00:00</td>\n",
       "    </tr>\n",
       "    <tr>\n",
       "        <td>2005-08-29T00:00:00</td>\n",
       "    </tr>\n",
       "    <tr>\n",
       "        <td>1998-08-31T00:00:00</td>\n",
       "    </tr>\n",
       "    <tr>\n",
       "        <td>2007-04-30T00:00:00</td>\n",
       "    </tr>\n",
       "</table>"
      ],
      "text/plain": [
       "[('2010-11-05T00:00:00',),\n",
       " ('2002-08-08T00:00:00',),\n",
       " ('2005-08-29T00:00:00',),\n",
       " ('1998-08-31T00:00:00',),\n",
       " ('2007-04-30T00:00:00',)]"
      ]
     },
     "execution_count": 47,
     "metadata": {},
     "output_type": "execute_result"
    }
   ],
   "source": [
    "%%sql\n",
    "\n",
    "SELECT \"Job Start Date\"\n",
    "FROM permits\n",
    "LIMIT 5;"
   ]
  },
  {
   "cell_type": "code",
   "execution_count": 62,
   "metadata": {},
   "outputs": [
    {
     "name": "stdout",
     "output_type": "stream",
     "text": [
      " * sqlite:///permitsdb.sql\n",
      "Done.\n"
     ]
    },
    {
     "data": {
      "text/html": [
       "<table>\n",
       "    <tr>\n",
       "        <th>YearStart</th>\n",
       "        <th>SUMMER</th>\n",
       "        <th>WINTER</th>\n",
       "        <th>SUMMER TO WINTER PERMIT APPROVAL RATIO</th>\n",
       "    </tr>\n",
       "    <tr>\n",
       "        <td>1990</td>\n",
       "        <td>92778</td>\n",
       "        <td>16720</td>\n",
       "        <td>5.548923444976077</td>\n",
       "    </tr>\n",
       "    <tr>\n",
       "        <td>1991</td>\n",
       "        <td>213876</td>\n",
       "        <td>137696</td>\n",
       "        <td>1.5532477341389728</td>\n",
       "    </tr>\n",
       "    <tr>\n",
       "        <td>1992</td>\n",
       "        <td>194392</td>\n",
       "        <td>202811</td>\n",
       "        <td>0.9584884449068345</td>\n",
       "    </tr>\n",
       "    <tr>\n",
       "        <td>1993</td>\n",
       "        <td>197480</td>\n",
       "        <td>186396</td>\n",
       "        <td>1.0594647953818752</td>\n",
       "    </tr>\n",
       "    <tr>\n",
       "        <td>1994</td>\n",
       "        <td>191856</td>\n",
       "        <td>172208</td>\n",
       "        <td>1.1140945832946205</td>\n",
       "    </tr>\n",
       "</table>"
      ],
      "text/plain": [
       "[('1990', 92778, 16720, 5.548923444976077),\n",
       " ('1991', 213876, 137696, 1.5532477341389728),\n",
       " ('1992', 194392, 202811, 0.9584884449068345),\n",
       " ('1993', 197480, 186396, 1.0594647953818752),\n",
       " ('1994', 191856, 172208, 1.1140945832946205)]"
      ]
     },
     "execution_count": 62,
     "metadata": {},
     "output_type": "execute_result"
    }
   ],
   "source": [
    "%%sql\n",
    "WITH SUMMER_COUNT AS\n",
    " (SELECT strftime('%m', \"Job Start Date\") AS MonthStart, strftime('%Y', \"Job Start Date\") AS YearStart, COUNT(*) AS NUM_PERMITS\n",
    "    FROM permits\n",
    "    GROUP BY \"Job Start Date\"\n",
    "    HAVING YearStart > \"1989\" AND YearStart < \"2013\" AND MonthStart IN (\"07\", \"08\")),\n",
    "    \n",
    "    WINTER_COUNT AS\n",
    "        (SELECT strftime('%m', \"Job Start Date\") AS MonthStart, strftime('%Y', \"Job Start Date\") AS YearStart, COUNT(*) AS NUM_PERMITS\n",
    "            FROM permits\n",
    "            GROUP BY \"Job Start Date\"\n",
    "            HAVING YearStart > \"1989\" AND YearStart < \"2013\" AND MonthStart IN (\"01\", \"02\")),\n",
    "    JOINED AS\n",
    "    (SELECT SUMMER_COUNT.YearStart, SUM(SUMMER_COUNT.NUM_PERMITS) AS SUMMER, SUM(WINTER_COUNT.NUM_PERMITS) AS WINTER\n",
    "    FROM SUMMER_COUNT \n",
    "    LEFT JOIN WINTER_COUNT\n",
    "    ON SUMMER_COUNT.YearStart=WINTER_COUNT.YearStart\n",
    "    GROUP BY SUMMER_COUNT.YearStart)\n",
    "SELECT YearStart, SUMMER, WINTER, CAST(SUMMER AS FLOAT)/WINTER AS \"SUMMER TO WINTER PERMIT APPROVAL RATIO\"\n",
    "FROM JOINED\n",
    "LIMIT 5;"
   ]
  },
  {
   "cell_type": "code",
   "execution_count": 63,
   "metadata": {
    "scrolled": true
   },
   "outputs": [
    {
     "name": "stdout",
     "output_type": "stream",
     "text": [
      " * sqlite:///permitsdb.sql\n",
      "Done.\n"
     ]
    },
    {
     "data": {
      "text/html": [
       "<table>\n",
       "    <tr>\n",
       "        <th>MonthStart</th>\n",
       "        <th>PermitLength</th>\n",
       "    </tr>\n",
       "    <tr>\n",
       "        <td>11</td>\n",
       "        <td>365</td>\n",
       "    </tr>\n",
       "    <tr>\n",
       "        <td>08</td>\n",
       "        <td>365</td>\n",
       "    </tr>\n",
       "    <tr>\n",
       "        <td>08</td>\n",
       "        <td>365</td>\n",
       "    </tr>\n",
       "    <tr>\n",
       "        <td>08</td>\n",
       "        <td>365</td>\n",
       "    </tr>\n",
       "    <tr>\n",
       "        <td>04</td>\n",
       "        <td>253</td>\n",
       "    </tr>\n",
       "</table>"
      ],
      "text/plain": [
       "[('11', 365), ('08', 365), ('08', 365), ('08', 365), ('04', 253)]"
      ]
     },
     "execution_count": 63,
     "metadata": {},
     "output_type": "execute_result"
    }
   ],
   "source": [
    "%%sql\n",
    "\n",
    "SELECT strftime('%m', \"Job Start Date\") AS MonthStart, CAST((julianday(\"Expiration Date\") - julianday(\"Issuance Date\")) AS integer) AS PermitLength\n",
    "FROM permits\n",
    "WHERE permits.\"Job Start Date\" BETWEEN '1990-01-01 00:00:00.000' AND '2012-12-31 23:59:59.998'\n",
    "LIMIT 5;"
   ]
  },
  {
   "cell_type": "code",
   "execution_count": 11,
   "metadata": {},
   "outputs": [],
   "source": [
    "sql_query = '''SELECT strftime('%m', \"Job Start Date\") AS MonthStart, CAST((julianday(\"Expiration Date\") - julianday(\"Issuance Date\")) AS integer) AS PermitLength\n",
    "FROM permits\n",
    "WHERE permits.\"Job Start Date\" BETWEEN \"1990-01-01 00:00:00.000\" AND \"2012-12-31 23:59:59.998\"'''\n",
    "chisq_test = pd.read_sql_query(sql_query, con='sqlite:///permitsdb.sql')"
   ]
  },
  {
   "cell_type": "code",
   "execution_count": 12,
   "metadata": {},
   "outputs": [
    {
     "name": "stdout",
     "output_type": "stream",
     "text": [
      "        MonthStart  PermitLength\n",
      "0               11         365.0\n",
      "1               08         365.0\n",
      "2               08         365.0\n",
      "3               08         365.0\n",
      "4               04         253.0\n",
      "...            ...           ...\n",
      "1033844         08         129.0\n",
      "1033845         08         365.0\n",
      "1033846         02          12.0\n",
      "1033847         05         365.0\n",
      "1033848         09         185.0\n",
      "\n",
      "[1033849 rows x 2 columns]\n"
     ]
    },
    {
     "data": {
      "text/plain": [
       "MonthStart        int32\n",
       "PermitLength    float64\n",
       "dtype: object"
      ]
     },
     "execution_count": 12,
     "metadata": {},
     "output_type": "execute_result"
    }
   ],
   "source": [
    "print(chisq_test)\n",
    "chisq_test['MonthStart'] = chisq_test['MonthStart'].astype(int)\n",
    "chisq_test.dtypes"
   ]
  },
  {
   "cell_type": "code",
   "execution_count": 13,
   "metadata": {},
   "outputs": [],
   "source": [
    "chisq_test_grouped = chisq_test.groupby(['MonthStart']).mean()"
   ]
  },
  {
   "cell_type": "code",
   "execution_count": 14,
   "metadata": {},
   "outputs": [
    {
     "data": {
      "text/html": [
       "<div>\n",
       "<style scoped>\n",
       "    .dataframe tbody tr th:only-of-type {\n",
       "        vertical-align: middle;\n",
       "    }\n",
       "\n",
       "    .dataframe tbody tr th {\n",
       "        vertical-align: top;\n",
       "    }\n",
       "\n",
       "    .dataframe thead th {\n",
       "        text-align: right;\n",
       "    }\n",
       "</style>\n",
       "<table border=\"1\" class=\"dataframe\">\n",
       "  <thead>\n",
       "    <tr style=\"text-align: right;\">\n",
       "      <th></th>\n",
       "      <th>PermitLength</th>\n",
       "    </tr>\n",
       "    <tr>\n",
       "      <th>MonthStart</th>\n",
       "      <th></th>\n",
       "    </tr>\n",
       "  </thead>\n",
       "  <tbody>\n",
       "    <tr>\n",
       "      <th>1</th>\n",
       "      <td>270.299757</td>\n",
       "    </tr>\n",
       "    <tr>\n",
       "      <th>2</th>\n",
       "      <td>266.453262</td>\n",
       "    </tr>\n",
       "    <tr>\n",
       "      <th>3</th>\n",
       "      <td>268.992811</td>\n",
       "    </tr>\n",
       "    <tr>\n",
       "      <th>4</th>\n",
       "      <td>270.919288</td>\n",
       "    </tr>\n",
       "    <tr>\n",
       "      <th>5</th>\n",
       "      <td>271.081427</td>\n",
       "    </tr>\n",
       "    <tr>\n",
       "      <th>6</th>\n",
       "      <td>268.274203</td>\n",
       "    </tr>\n",
       "    <tr>\n",
       "      <th>7</th>\n",
       "      <td>269.485996</td>\n",
       "    </tr>\n",
       "    <tr>\n",
       "      <th>8</th>\n",
       "      <td>264.258961</td>\n",
       "    </tr>\n",
       "    <tr>\n",
       "      <th>9</th>\n",
       "      <td>260.661893</td>\n",
       "    </tr>\n",
       "    <tr>\n",
       "      <th>10</th>\n",
       "      <td>257.791885</td>\n",
       "    </tr>\n",
       "    <tr>\n",
       "      <th>11</th>\n",
       "      <td>257.549138</td>\n",
       "    </tr>\n",
       "    <tr>\n",
       "      <th>12</th>\n",
       "      <td>260.308672</td>\n",
       "    </tr>\n",
       "  </tbody>\n",
       "</table>\n",
       "</div>"
      ],
      "text/plain": [
       "            PermitLength\n",
       "MonthStart              \n",
       "1             270.299757\n",
       "2             266.453262\n",
       "3             268.992811\n",
       "4             270.919288\n",
       "5             271.081427\n",
       "6             268.274203\n",
       "7             269.485996\n",
       "8             264.258961\n",
       "9             260.661893\n",
       "10            257.791885\n",
       "11            257.549138\n",
       "12            260.308672"
      ]
     },
     "execution_count": 14,
     "metadata": {},
     "output_type": "execute_result"
    }
   ],
   "source": [
    "chisq_test_grouped"
   ]
  },
  {
   "cell_type": "code",
   "execution_count": 15,
   "metadata": {},
   "outputs": [
    {
     "data": {
      "text/plain": [
       "Power_divergenceResult(statistic=array([1.11025396]), pvalue=array([0.99991447]))"
      ]
     },
     "execution_count": 15,
     "metadata": {},
     "output_type": "execute_result"
    }
   ],
   "source": [
    "stats.chisquare(chisq_test_grouped)"
   ]
  }
 ],
 "metadata": {
  "kernelspec": {
   "display_name": "Python 3",
   "language": "python",
   "name": "python3"
  },
  "language_info": {
   "codemirror_mode": {
    "name": "ipython",
    "version": 3
   },
   "file_extension": ".py",
   "mimetype": "text/x-python",
   "name": "python",
   "nbconvert_exporter": "python",
   "pygments_lexer": "ipython3",
   "version": "3.7.5"
  }
 },
 "nbformat": 4,
 "nbformat_minor": 2
}
